{
 "cells": [
  {
   "cell_type": "code",
   "execution_count": 1,
   "metadata": {},
   "outputs": [],
   "source": [
    "import numpy as np\n",
    "from keras import layers\n",
    "from keras import models\n",
    "from keras import optimizers\n",
    "from keras.preprocessing.image import ImageDataGenerator\n",
    "from keras.preprocessing import image_dataset_from_directory\n",
    "from keras.callbacks import EarlyStopping, ModelCheckpoint\n",
    "from keras.regularizers import l2\n",
    "from keras.utils import to_categorical\n",
    "from keras.utils import multi_gpu_model\n",
    "from tensorflow.distribute import MirroredStrategy\n",
    "from keras.utils import Sequence\n",
    "#from keras.models import load_model\n",
    "import os\n",
    "import matplotlib.pyplot as plt\n",
    "import pickle\n",
    "rng = np.random.default_rng()\n",
    "\n",
    "\n",
    "Path = \"/home/ug-ml/felix-ML/DataGenerator2/Data\"\n",
    "DataSets = [\"/train/\", \"/validation/\"]"
   ]
  },
  {
   "cell_type": "code",
   "execution_count": null,
   "metadata": {},
   "outputs": [],
   "source": []
  },
  {
   "cell_type": "code",
   "execution_count": null,
   "metadata": {},
   "outputs": [],
   "source": []
  },
  {
   "cell_type": "code",
   "execution_count": null,
   "metadata": {},
   "outputs": [],
   "source": []
  },
  {
   "cell_type": "code",
   "execution_count": 2,
   "metadata": {},
   "outputs": [],
   "source": [
    "\n"
   ]
  },
  {
   "cell_type": "code",
   "execution_count": 3,
   "metadata": {},
   "outputs": [
    {
     "name": "stdout",
     "output_type": "stream",
     "text": [
      "data done.\n",
      "training_seq done.\n",
      "val_images done.\n",
      "val_lab done.\n"
     ]
    }
   ],
   "source": [
    "data = [i for i in gen_paths_labels(Path)]\n",
    "#data[0][0] is training paths data[0][1] is training labels\n",
    "#data[1][0] is val paths data[1][1] is val labels\n",
    "print(\"data done.\")\n",
    "training_seq = FelixSequence(data[0][0], data[0][1], 32, \"npy\")\n",
    "print(\"training_seq done.\")\n",
    "#print(data[1][0])\n",
    "val_images = arrs_from_paths(data[1][0], \"npy\")\n",
    "print(\"val_images done.\")\n",
    "val_lab = to_categorical(data[1][1])\n",
    "print(\"val_lab done.\")\n"
   ]
  },
  {
   "cell_type": "code",
   "execution_count": 10,
   "metadata": {},
   "outputs": [
    {
     "name": "stdout",
     "output_type": "stream",
     "text": [
      "INFO:tensorflow:Using MirroredStrategy with devices ('/job:localhost/replica:0/task:0/device:GPU:0', '/job:localhost/replica:0/task:0/device:GPU:1')\n",
      "Model: \"sequential_3\"\n",
      "_________________________________________________________________\n",
      "Layer (type)                 Output Shape              Param #   \n",
      "=================================================================\n",
      "separable_conv2d_9 (Separabl (None, 128, 126, 126)     5060      \n",
      "_________________________________________________________________\n",
      "max_pooling2d_9 (MaxPooling2 (None, 64, 63, 126)       0         \n",
      "_________________________________________________________________\n",
      "separable_conv2d_10 (Separab (None, 128, 61, 124)      8896      \n",
      "_________________________________________________________________\n",
      "max_pooling2d_10 (MaxPooling (None, 64, 30, 124)       0         \n",
      "_________________________________________________________________\n",
      "separable_conv2d_11 (Separab (None, 128, 28, 122)      8896      \n",
      "_________________________________________________________________\n",
      "max_pooling2d_11 (MaxPooling (None, 64, 14, 122)       0         \n",
      "_________________________________________________________________\n",
      "flatten_3 (Flatten)          (None, 109312)            0         \n",
      "_________________________________________________________________\n",
      "dropout_3 (Dropout)          (None, 109312)            0         \n",
      "_________________________________________________________________\n",
      "dense_6 (Dense)              (None, 32)                3498016   \n",
      "_________________________________________________________________\n",
      "dense_7 (Dense)              (None, 10)                330       \n",
      "=================================================================\n",
      "Total params: 3,521,198\n",
      "Trainable params: 3,521,198\n",
      "Non-trainable params: 0\n",
      "_________________________________________________________________\n"
     ]
    }
   ],
   "source": [
    "strategy = MirroredStrategy()\n",
    "\n",
    "with strategy.scope():\n",
    "    model = models.Sequential()\n",
    "    model.add(layers.SeparableConv2D(128, (3, 3), activation='relu', data_format='channels_first', input_shape=(36, 128, 128)))\n",
    "    model.add(layers.MaxPooling2D((2, 2)))\n",
    "    model.add(layers.SeparableConv2D(128, (3, 3), data_format='channels_first', activation='relu'))\n",
    "    model.add(layers.MaxPooling2D((2, 2)))\n",
    "    model.add(layers.SeparableConv2D(128, (3, 3), data_format='channels_first',  activation='relu'))\n",
    "    model.add(layers.MaxPooling2D((2, 2)))\n",
    "    model.add(layers.Flatten())\n",
    "    model.add(layers.Dropout(0.25))\n",
    "    model.add(layers.Dense(32, activation='relu', kernel_regularizer = l2(0.01)))\n",
    "    model.add(layers.Dense(10, activation='softmax', kernel_regularizer = l2(0.01)))\n",
    "\n",
    "\n",
    "\n",
    "    model.compile(loss='categorical_crossentropy', optimizer=optimizers.RMSprop(learning_rate = 0.0005), metrics=['acc'])\n",
    "    \n",
    "model.summary()"
   ]
  },
  {
   "cell_type": "code",
   "execution_count": 11,
   "metadata": {},
   "outputs": [
    {
     "name": "stdout",
     "output_type": "stream",
     "text": [
      "Epoch 1/100\n",
      "INFO:tensorflow:batch_all_reduce: 13 all-reduces with algorithm = nccl, num_packs = 1\n",
      "INFO:tensorflow:batch_all_reduce: 13 all-reduces with algorithm = nccl, num_packs = 1\n",
      "560/560 [==============================] - 140s 251ms/step - loss: 2.1928 - acc: 0.2134 - val_loss: 2.3092 - val_acc: 0.2462\n",
      "Epoch 2/100\n",
      "560/560 [==============================] - 128s 228ms/step - loss: 1.9866 - acc: 0.3277 - val_loss: 2.1163 - val_acc: 0.2834\n",
      "Epoch 3/100\n",
      "560/560 [==============================] - 130s 232ms/step - loss: 1.7811 - acc: 0.4321 - val_loss: 5.3829 - val_acc: 0.4327\n",
      "Epoch 4/100\n",
      "560/560 [==============================] - 130s 231ms/step - loss: 1.6678 - acc: 0.4821 - val_loss: 3.9414 - val_acc: 0.4598\n",
      "Epoch 5/100\n",
      "560/560 [==============================] - 127s 227ms/step - loss: 1.5791 - acc: 0.5201 - val_loss: 2.2699 - val_acc: 0.5090\n",
      "Epoch 6/100\n",
      "560/560 [==============================] - 130s 232ms/step - loss: 1.5242 - acc: 0.5381 - val_loss: 3.9447 - val_acc: 0.5116\n",
      "Epoch 7/100\n",
      "560/560 [==============================] - 129s 230ms/step - loss: 1.4676 - acc: 0.5600 - val_loss: 3.0992 - val_acc: 0.5588\n",
      "Epoch 8/100\n",
      "560/560 [==============================] - 131s 233ms/step - loss: 1.4200 - acc: 0.5826 - val_loss: 2.2173 - val_acc: 0.5482\n",
      "Epoch 9/100\n",
      "560/560 [==============================] - 129s 231ms/step - loss: 1.3766 - acc: 0.5989 - val_loss: 2.3343 - val_acc: 0.5889\n",
      "Epoch 10/100\n",
      "560/560 [==============================] - 129s 230ms/step - loss: 1.3361 - acc: 0.6106 - val_loss: 1.9966 - val_acc: 0.5884\n",
      "Epoch 11/100\n",
      "560/560 [==============================] - 134s 239ms/step - loss: 1.2960 - acc: 0.6292 - val_loss: 1.8340 - val_acc: 0.5995\n",
      "Epoch 12/100\n",
      "560/560 [==============================] - 134s 239ms/step - loss: 1.2471 - acc: 0.6525 - val_loss: 1.6165 - val_acc: 0.6206\n",
      "Epoch 13/100\n",
      "560/560 [==============================] - 134s 239ms/step - loss: 1.2105 - acc: 0.6663 - val_loss: 2.5306 - val_acc: 0.6256\n",
      "Epoch 14/100\n",
      "560/560 [==============================] - 138s 247ms/step - loss: 1.1763 - acc: 0.6799 - val_loss: 2.3241 - val_acc: 0.6553\n",
      "Epoch 15/100\n",
      "560/560 [==============================] - 135s 241ms/step - loss: 1.1470 - acc: 0.6903 - val_loss: 2.6051 - val_acc: 0.6513\n",
      "Epoch 16/100\n",
      "560/560 [==============================] - 136s 243ms/step - loss: 1.1193 - acc: 0.7042 - val_loss: 3.3623 - val_acc: 0.6729\n",
      "Epoch 17/100\n",
      "560/560 [==============================] - 136s 243ms/step - loss: 1.1007 - acc: 0.7123 - val_loss: 4.0687 - val_acc: 0.6508\n",
      "Epoch 18/100\n",
      "560/560 [==============================] - 138s 246ms/step - loss: 1.0736 - acc: 0.7220 - val_loss: 5.9808 - val_acc: 0.6623\n",
      "Epoch 19/100\n",
      "560/560 [==============================] - 139s 248ms/step - loss: 1.0598 - acc: 0.7273 - val_loss: 3.5539 - val_acc: 0.6734\n",
      "Epoch 20/100\n",
      "560/560 [==============================] - 132s 236ms/step - loss: 1.0453 - acc: 0.7303 - val_loss: 4.4160 - val_acc: 0.6779\n",
      "Epoch 21/100\n",
      "560/560 [==============================] - 132s 236ms/step - loss: 1.0283 - acc: 0.7391 - val_loss: 4.3973 - val_acc: 0.6849\n",
      "Epoch 22/100\n",
      "560/560 [==============================] - 127s 227ms/step - loss: 1.0206 - acc: 0.7427 - val_loss: 5.8187 - val_acc: 0.6844\n",
      "Epoch 23/100\n",
      "560/560 [==============================] - 126s 225ms/step - loss: 1.0092 - acc: 0.7467 - val_loss: 3.8221 - val_acc: 0.6829\n",
      "Epoch 24/100\n",
      "560/560 [==============================] - 128s 228ms/step - loss: 0.9969 - acc: 0.7491 - val_loss: 7.9279 - val_acc: 0.6739\n",
      "Epoch 25/100\n",
      "560/560 [==============================] - 126s 225ms/step - loss: 0.9880 - acc: 0.7552 - val_loss: 7.1743 - val_acc: 0.6633\n",
      "Epoch 26/100\n",
      "560/560 [==============================] - 125s 224ms/step - loss: 0.9760 - acc: 0.7542 - val_loss: 6.2026 - val_acc: 0.6980\n",
      "Epoch 27/100\n",
      "560/560 [==============================] - 125s 222ms/step - loss: 0.9605 - acc: 0.7622 - val_loss: 8.0990 - val_acc: 0.6874\n",
      "Epoch 28/100\n",
      "560/560 [==============================] - 124s 222ms/step - loss: 0.9595 - acc: 0.7638 - val_loss: 4.5555 - val_acc: 0.6804\n",
      "Epoch 29/100\n",
      "560/560 [==============================] - 125s 223ms/step - loss: 0.9447 - acc: 0.7660 - val_loss: 5.0876 - val_acc: 0.6839\n",
      "Epoch 30/100\n",
      "560/560 [==============================] - 124s 221ms/step - loss: 0.9374 - acc: 0.7694 - val_loss: 3.4802 - val_acc: 0.6889\n",
      "Epoch 31/100\n",
      "560/560 [==============================] - 125s 224ms/step - loss: 0.9329 - acc: 0.7716 - val_loss: 5.6996 - val_acc: 0.7000\n",
      "Epoch 32/100\n",
      "560/560 [==============================] - 125s 223ms/step - loss: 0.9203 - acc: 0.7759 - val_loss: 4.9730 - val_acc: 0.7010\n",
      "Epoch 33/100\n",
      "560/560 [==============================] - 123s 220ms/step - loss: 0.9107 - acc: 0.7770 - val_loss: 5.5527 - val_acc: 0.6960\n",
      "Epoch 34/100\n",
      "560/560 [==============================] - 124s 221ms/step - loss: 0.9065 - acc: 0.7812 - val_loss: 5.5221 - val_acc: 0.7095\n",
      "Epoch 35/100\n",
      "560/560 [==============================] - 127s 226ms/step - loss: 0.8952 - acc: 0.7853 - val_loss: 4.7491 - val_acc: 0.7095\n",
      "Epoch 36/100\n",
      "560/560 [==============================] - 126s 224ms/step - loss: 0.8930 - acc: 0.7826 - val_loss: 3.2750 - val_acc: 0.7121\n",
      "Epoch 37/100\n",
      "560/560 [==============================] - 125s 224ms/step - loss: 0.8816 - acc: 0.7877 - val_loss: 6.8749 - val_acc: 0.7231\n",
      "Epoch 38/100\n",
      "560/560 [==============================] - 126s 225ms/step - loss: 0.8750 - acc: 0.7894 - val_loss: 7.2821 - val_acc: 0.7121\n",
      "Epoch 39/100\n",
      "560/560 [==============================] - 126s 224ms/step - loss: 0.8727 - acc: 0.7902 - val_loss: 7.9629 - val_acc: 0.7171\n",
      "Epoch 40/100\n",
      "560/560 [==============================] - 127s 227ms/step - loss: 0.8606 - acc: 0.7939 - val_loss: 4.1264 - val_acc: 0.7030\n",
      "Epoch 41/100\n",
      "560/560 [==============================] - 127s 227ms/step - loss: 0.8587 - acc: 0.7931 - val_loss: 4.2777 - val_acc: 0.7156\n",
      "Epoch 42/100\n",
      "560/560 [==============================] - 130s 232ms/step - loss: 0.8451 - acc: 0.8001 - val_loss: 4.4101 - val_acc: 0.7176\n",
      "Epoch 43/100\n",
      "560/560 [==============================] - 130s 231ms/step - loss: 0.8405 - acc: 0.7970 - val_loss: 5.6439 - val_acc: 0.7221\n",
      "Epoch 44/100\n",
      "560/560 [==============================] - 131s 234ms/step - loss: 0.8382 - acc: 0.7989 - val_loss: 5.1330 - val_acc: 0.7116\n",
      "Epoch 45/100\n",
      "560/560 [==============================] - 135s 240ms/step - loss: 0.8259 - acc: 0.8072 - val_loss: 2.9110 - val_acc: 0.7281\n",
      "Epoch 46/100\n",
      "560/560 [==============================] - 142s 254ms/step - loss: 0.8280 - acc: 0.8034 - val_loss: 4.6158 - val_acc: 0.7211\n",
      "Epoch 47/100\n",
      "560/560 [==============================] - 146s 262ms/step - loss: 0.8299 - acc: 0.8025 - val_loss: 3.5907 - val_acc: 0.7317\n",
      "Epoch 48/100\n",
      "560/560 [==============================] - 152s 271ms/step - loss: 0.8142 - acc: 0.8098 - val_loss: 5.9011 - val_acc: 0.7312\n",
      "Epoch 49/100\n",
      "560/560 [==============================] - 158s 282ms/step - loss: 0.8112 - acc: 0.8079 - val_loss: 6.1647 - val_acc: 0.7236\n",
      "Epoch 50/100\n",
      "560/560 [==============================] - 165s 294ms/step - loss: 0.8068 - acc: 0.8109 - val_loss: 5.8507 - val_acc: 0.7181\n",
      "Epoch 51/100\n",
      "560/560 [==============================] - 176s 314ms/step - loss: 0.8070 - acc: 0.8122 - val_loss: 5.2154 - val_acc: 0.7246\n",
      "Epoch 52/100\n",
      "560/560 [==============================] - 188s 336ms/step - loss: 0.7968 - acc: 0.8136 - val_loss: 2.8617 - val_acc: 0.7111\n",
      "Epoch 53/100\n",
      "560/560 [==============================] - 185s 330ms/step - loss: 0.8002 - acc: 0.8092 - val_loss: 5.4434 - val_acc: 0.7332\n",
      "Epoch 54/100\n",
      "560/560 [==============================] - 176s 314ms/step - loss: 0.7922 - acc: 0.8131 - val_loss: 5.0000 - val_acc: 0.7121\n",
      "Epoch 55/100\n",
      "560/560 [==============================] - 160s 285ms/step - loss: 0.7848 - acc: 0.8178 - val_loss: 7.0954 - val_acc: 0.7005\n",
      "Epoch 56/100\n",
      "560/560 [==============================] - 138s 247ms/step - loss: 0.7827 - acc: 0.8194 - val_loss: 6.6898 - val_acc: 0.7266\n",
      "Epoch 57/100\n",
      "560/560 [==============================] - 135s 241ms/step - loss: 0.7788 - acc: 0.8223 - val_loss: 6.0778 - val_acc: 0.7322\n",
      "Epoch 58/100\n",
      "560/560 [==============================] - 133s 238ms/step - loss: 0.7802 - acc: 0.8175 - val_loss: 6.7454 - val_acc: 0.7191\n",
      "Epoch 59/100\n",
      "560/560 [==============================] - 128s 229ms/step - loss: 0.7808 - acc: 0.8208 - val_loss: 6.0419 - val_acc: 0.7322\n",
      "Epoch 60/100\n",
      "560/560 [==============================] - 134s 240ms/step - loss: 0.7734 - acc: 0.8196 - val_loss: 3.3372 - val_acc: 0.7392\n",
      "Epoch 61/100\n",
      "560/560 [==============================] - 129s 231ms/step - loss: 0.7648 - acc: 0.8252 - val_loss: 3.3064 - val_acc: 0.7191\n",
      "Epoch 62/100\n",
      "560/560 [==============================] - 132s 236ms/step - loss: 0.7657 - acc: 0.8215 - val_loss: 6.7229 - val_acc: 0.7417\n",
      "Epoch 00062: early stopping\n"
     ]
    },
    {
     "data": {
      "image/png": "[encoded data removed]",
      "text/plain": [
       "<Figure size 432x288 with 1 Axes>"
      ]
     },
     "metadata": {
      "needs_background": "light"
     },
     "output_type": "display_data"
    },
    {
     "data": {
      "image/png": "[encoded data removed]",
      "text/plain": [
       "<Figure size 432x288 with 1 Axes>"
      ]
     },
     "metadata": {
      "needs_background": "light"
     },
     "output_type": "display_data"
    }
   ],
   "source": [
    "EarlyStop = EarlyStopping(monitor='val_loss', mode='min', verbose=1, patience=50)\n",
    "#Checkpoint = ModelCheckpoint(\"3DCovBest.hdf5\", monitor='val_loss', verbose=1, save_best_only=True, mode='min', period=1)\n",
    "\n",
    "#model = models.load_model('F:\\\\training3000\\\\pngs_thicknesses_model_L2.h5')\n",
    "#model.compile(loss='categorical_crossentropy', optimizer=\"rmsprop\", metrics=['acc'])\n",
    "\n",
    "\n",
    "history = model.fit(training_seq, \n",
    "                    epochs=100, \n",
    "                    validation_data = (val_images, val_lab), \n",
    "                    callbacks=[EarlyStop], \n",
    "                    workers = 16, \n",
    "                    shuffle = True,\n",
    "                    use_multiprocessing = False)\n",
    "\n",
    "#model.save('3DCovLast.h5')\n",
    "\n",
    "#test_loss, test_acc = model.evaluate(test_images, test_lab)\n",
    "\n",
    "#with open('3DCovPICKLE', 'wb') as file_pi: pickle.dump(history.history, file_pi)\n",
    "\n",
    "\n",
    "acc = history.history['acc']\n",
    "val_acc = history.history['val_acc']\n",
    "loss = history.history['loss']\n",
    "val_loss = history.history['val_loss']\n",
    "epochs = range(1, len(acc) + 1)\n",
    "plt.plot(epochs, acc, 'bo', label='Training acc')\n",
    "plt.plot(epochs, val_acc, 'b', label='Validation acc')\n",
    "plt.title('Training and validation accuracy')\n",
    "plt.legend()\n",
    "plt.figure()\n",
    "plt.plot(epochs, loss, 'bo', label='Training loss')\n",
    "plt.plot(epochs, val_loss, 'b', label='Validation loss')\n",
    "plt.title('Training and validation loss')\n",
    "plt.legend()\n",
    "plt.show()\n"
   ]
  },
  {
   "cell_type": "code",
   "execution_count": 12,
   "metadata": {},
   "outputs": [],
   "source": [
    "model.save('Conv_seq_36_3000_3M.h5')"
   ]
  },
  {
   "cell_type": "code",
   "execution_count": null,
   "metadata": {},
   "outputs": [],
   "source": []
  }
 ],
 "metadata": {
  "kernelspec": {
   "display_name": "Python 3",
   "language": "python",
   "name": "python3"
  },
  "language_info": {
   "codemirror_mode": {
    "name": "ipython",
    "version": 3
   },
   "file_extension": ".py",
   "mimetype": "text/x-python",
   "name": "python",
   "nbconvert_exporter": "python",
   "pygments_lexer": "ipython3",
   "version": "3.6.9"
  }
 },
 "nbformat": 4,
 "nbformat_minor": 4
}
