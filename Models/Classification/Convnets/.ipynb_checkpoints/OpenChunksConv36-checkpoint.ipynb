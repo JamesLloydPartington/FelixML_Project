{
 "cells": [
  {
   "cell_type": "code",
   "execution_count": 1,
   "metadata": {},
   "outputs": [
    {
     "name": "stdout",
     "output_type": "stream",
     "text": [
      "[  28 1071 1027   88   33 1012 1055 1080 1026   75   45   14   58 1042\n",
      " 1068   94   82 1010 1077 1090 1018 1079 1033   21   83 1057   96   13\n",
      "    4   37 1088 1014   29   97   78   89    2   50 1040   90 1016 1081\n",
      " 1021   80    9   84 1043   51 1038   61   63   68 1045   22 1058 1034\n",
      "   57   54    3 1050 1001 1022   34   41   67   72 1061 1059   91   27\n",
      " 1075 1015   70 1066   16   42   81 1013   49   98   74   35   47   85\n",
      " 1070 1052 1069 1060    7 1009   43 1004   26   93 1011 1087   17   38\n",
      "   18 1037 1047  100 1020   39   19   86   95 1089 1030 1053   77   30\n",
      " 1062 1049   52   48   59 1072   23   69 1076 1031 1025 1082   76   87\n",
      "   55 1006 1086 1073 1064   62   24 1044   60    8   36   25 1017 1054\n",
      " 1003 1084 1005 1056 1041 1046 1024   15 1083   79 1035   20 1065   65\n",
      "   66 1019 1067 1085 1028    6 1008 1032 1002   53   71   31    1   32\n",
      " 1074   56 1048    5 1063   11   10   92 1036   64 1029   99 1007   44\n",
      "   46 1000 1051 1039    0   73 1078 1023   12   40]\n"
     ]
    }
   ],
   "source": [
    "import numpy as np\n",
    "from keras import layers\n",
    "from keras import models\n",
    "from keras import optimizers\n",
    "from keras.preprocessing.image import ImageDataGenerator\n",
    "from keras.preprocessing import image_dataset_from_directory\n",
    "from keras.callbacks import EarlyStopping, ModelCheckpoint\n",
    "from keras.regularizers import l2\n",
    "from keras.utils import to_categorical\n",
    "from keras.utils import multi_gpu_model\n",
    "from tensorflow.distribute import MirroredStrategy\n",
    "#from keras.models import load_model\n",
    "import os\n",
    "import matplotlib.pyplot as plt\n",
    "import pickle\n",
    "\n",
    "\n",
    "Path = \"/home/ug-ml/felix-ML/AllDirections\"\n",
    "\n",
    "ChunkImage = \"ChunkImage_\"\n",
    "ChunkLabel = \"ChunkLabel_\"\n",
    "NameNumbers = [0, 1000]\n",
    "MaxChunk = [101, 91]\n",
    "\n",
    "rng = np.random.default_rng()\n",
    "\n",
    "Chunk_Size = 8\n",
    "\n",
    "\n",
    "Total = 0\n",
    "for i in MaxChunk:\n",
    "  Total+=i  \n",
    "\n",
    "ShuffleIndex = np.zeros(Total, dtype = np.int)\n",
    "IndexBatchAll = []\n",
    "IndexBatch_i = []\n",
    "for i in range(0, len(MaxChunk)):\n",
    "    for j in range(0, MaxChunk[i]):\n",
    "        IndexBatch_i.append(j + NameNumbers[i])\n",
    "    IndexBatchAll.append(IndexBatch_i)\n",
    "    IndexBatch_i = []\n",
    "\n",
    "index = 0\n",
    "for i in IndexBatchAll:\n",
    "    for j in i:\n",
    "        ShuffleIndex[index] = j\n",
    "        index+=1\n",
    "\n",
    "rng.shuffle(ShuffleIndex)\n",
    "print(ShuffleIndex)\n",
    "\n",
    "RatioTrain = 0.9\n",
    "\n",
    "TrainNo = int(Total * RatioTrain)\n",
    "TrainIndex = ShuffleIndex[0:TrainNo]\n",
    "ValIndex = ShuffleIndex[TrainNo:-1]"
   ]
  },
  {
   "cell_type": "code",
   "execution_count": 2,
   "metadata": {},
   "outputs": [
    {
     "name": "stdout",
     "output_type": "stream",
     "text": [
      "INFO:tensorflow:Using MirroredStrategy with devices ('/job:localhost/replica:0/task:0/device:GPU:0', '/job:localhost/replica:0/task:0/device:GPU:1')\n"
     ]
    }
   ],
   "source": [
    "\n",
    "os.environ[\"TF_CPP_MIN_LOG_LEVEL\"]=\"3\"\n",
    "\n",
    "strategy = MirroredStrategy()\n",
    "\n",
    "\n",
    "PixelDimension = 36\n"
   ]
  },
  {
   "cell_type": "code",
   "execution_count": null,
   "metadata": {},
   "outputs": [
    {
     "name": "stdout",
     "output_type": "stream",
     "text": [
      "EPOCH:  0 CHUNK:  0\n",
      "INFO:tensorflow:batch_all_reduce: 13 all-reduces with algorithm = nccl, num_packs = 1\n",
      "INFO:tensorflow:Reduce to /job:localhost/replica:0/task:0/device:CPU:0 then broadcast to ('/job:localhost/replica:0/task:0/device:CPU:0',).\n",
      "INFO:tensorflow:Reduce to /job:localhost/replica:0/task:0/device:CPU:0 then broadcast to ('/job:localhost/replica:0/task:0/device:CPU:0',).\n",
      "INFO:tensorflow:Reduce to /job:localhost/replica:0/task:0/device:CPU:0 then broadcast to ('/job:localhost/replica:0/task:0/device:CPU:0',).\n",
      "INFO:tensorflow:Reduce to /job:localhost/replica:0/task:0/device:CPU:0 then broadcast to ('/job:localhost/replica:0/task:0/device:CPU:0',).\n",
      "INFO:tensorflow:batch_all_reduce: 13 all-reduces with algorithm = nccl, num_packs = 1\n",
      "INFO:tensorflow:Reduce to /job:localhost/replica:0/task:0/device:CPU:0 then broadcast to ('/job:localhost/replica:0/task:0/device:CPU:0',).\n",
      "INFO:tensorflow:Reduce to /job:localhost/replica:0/task:0/device:CPU:0 then broadcast to ('/job:localhost/replica:0/task:0/device:CPU:0',).\n",
      "INFO:tensorflow:Reduce to /job:localhost/replica:0/task:0/device:CPU:0 then broadcast to ('/job:localhost/replica:0/task:0/device:CPU:0',).\n",
      "INFO:tensorflow:Reduce to /job:localhost/replica:0/task:0/device:CPU:0 then broadcast to ('/job:localhost/replica:0/task:0/device:CPU:0',).\n",
      "50/50 [==============================] - ETA: 0s - loss: 2.1659 - acc: 0.1744INFO:tensorflow:Reduce to /job:localhost/replica:0/task:0/device:CPU:0 then broadcast to ('/job:localhost/replica:0/task:0/device:CPU:0',).\n",
      "INFO:tensorflow:Reduce to /job:localhost/replica:0/task:0/device:CPU:0 then broadcast to ('/job:localhost/replica:0/task:0/device:CPU:0',).\n",
      "WARNING:tensorflow:From /home/ug-ml/felix-ML/env/lib/python3.6/site-packages/tensorflow/python/data/ops/multi_device_iterator_ops.py:601: get_next_as_optional (from tensorflow.python.data.ops.iterator_ops) is deprecated and will be removed in a future version.\n",
      "Instructions for updating:\n",
      "Use `tf.data.Iterator.get_next_as_optional()` instead.\n",
      "50/50 [==============================] - 19s 374ms/step - loss: 2.1659 - acc: 0.1744 - val_loss: 2.1049 - val_acc: 0.1875\n",
      "EPOCH:  0 CHUNK:  1\n"
     ]
    }
   ],
   "source": [
    "\n",
    "with strategy.scope():\n",
    "\n",
    "    model = models.Sequential()\n",
    "    model.add(layers.SeparableConv2D(128, (3, 3), activation='relu', data_format='channels_first', input_shape=(PixelDimension, 128, 128)))\n",
    "    model.add(layers.MaxPooling2D((2, 2)))\n",
    "    model.add(layers.SeparableConv2D(128, (3, 3), data_format='channels_first', activation='relu'))\n",
    "    model.add(layers.MaxPooling2D((2, 2)))\n",
    "    model.add(layers.SeparableConv2D(128, (3, 3), data_format='channels_first',  activation='relu'))\n",
    "    model.add(layers.MaxPooling2D((2, 2)))\n",
    "    model.add(layers.Flatten())\n",
    "    model.add(layers.Dropout(0.25))\n",
    "    model.add(layers.Dense(512, activation='relu', kernel_regularizer = l2(0.0001)))\n",
    "    model.add(layers.Dense(10, activation='softmax', kernel_regularizer = l2(0.0001)))\n",
    "\n",
    "\n",
    "\n",
    "    model.compile(loss='categorical_crossentropy', optimizer=optimizers.RMSprop(learning_rate = 0.0005), metrics=['acc'])\n",
    "\n",
    "\n",
    "\n",
    "\n",
    "#model.summary()\n",
    "\n",
    "\n",
    "EarlyStop = EarlyStopping(monitor='val_loss', mode='min', verbose=1, patience=20)\n",
    "#Checkpoint = ModelCheckpoint(\"3DCovBest.hdf5\", monitor='val_loss', verbose=1, save_best_only=True, mode='min', period=1)\n",
    "Epochs = 5\n",
    "TrainLoadedChunks = 10\n",
    "EpochsChunk = int(Epochs * TrainIndex.shape[0] / TrainLoadedChunks)\n",
    "\n",
    "\n",
    "BatchShuffle = np.arange(Chunk_Size * 10 * TrainLoadedChunks, dtype = int).reshape(TrainLoadedChunks * Chunk_Size * 10)\n",
    "rng.shuffle(BatchShuffle)\n",
    "\n",
    "index = 0\n",
    "for i in range(0, EpochsChunk):\n",
    "\n",
    "    train_images = np.zeros(Chunk_Size * 10 * 36 * TrainLoadedChunks * 128 * 128, dtype = np.float32).reshape(TrainLoadedChunks, Chunk_Size * 10, 36, 128, 128)\n",
    "    train_lab = np.zeros(Chunk_Size * 10 * TrainLoadedChunks, dtype = np.int).reshape(TrainLoadedChunks, Chunk_Size * 10)\n",
    "    for j in range(0, TrainLoadedChunks):\n",
    "        index = i * TrainLoadedChunks + j\n",
    "        TrainChunk_i = TrainIndex[index % TrainIndex.shape[0]]\n",
    "        #print(\"Train Chunk\", TrainChunk_i)\n",
    "\n",
    "\n",
    "\n",
    "\n",
    "        train_images[j] = np.load(Path + \"/\" + ChunkImage + str(TrainChunk_i) + \".npy\")\n",
    "        train_lab[j] = np.load(Path + \"/\" + ChunkLabel + str(TrainChunk_i) + \".npy\")\n",
    "\n",
    "    train_images = train_images.reshape(-1, 36, 128, 128)\n",
    "    train_images = train_images[BatchShuffle]\n",
    "    train_lab = train_lab.reshape(-1)\n",
    "    train_lab = to_categorical(train_lab[BatchShuffle])\n",
    "\n",
    "    ValChunk_i = ValIndex[(i * TrainLoadedChunks) % ValIndex.shape[0]]\n",
    "    #print(\"Val Chunk\", ValChunk_i)\n",
    "\n",
    "    val_images = np.load(Path + \"/\" + ChunkImage + str(ValChunk_i) + \".npy\")\n",
    "    val_lab = to_categorical(np.load(Path + \"/\" + ChunkLabel + str(ValChunk_i) + \".npy\"))\n",
    "\n",
    "\n",
    "    print(\"EPOCH: \", int(i / TrainIndex.shape[0]), \"CHUNK: \", i % TrainIndex.shape[0])\n",
    "    history = model.fit(train_images, train_lab, epochs=5, batch_size = 64, validation_data = (val_images, val_lab), shuffle = True, callbacks=[EarlyStop]) #, Checkpoint\n",
    "    train_images = None\n",
    "    train_lab = None\n",
    "    val_images = None\n",
    "    val_lab = None\n",
    "    #model.save('1000AllDirection.h5')\n"
   ]
  },
  {
   "cell_type": "code",
   "execution_count": null,
   "metadata": {},
   "outputs": [
    {
     "name": "stdout",
     "output_type": "stream",
     "text": [
      "EPOCH:  0 CHUNK:  0\n",
      "50/50 [==============================] - 17s 337ms/step - loss: 2.2098 - acc: 0.1678 - val_loss: 2.0559 - val_acc: 0.2000\n",
      "EPOCH:  0 CHUNK:  1\n",
      "50/50 [==============================] - 16s 323ms/step - loss: 2.0641 - acc: 0.1878 - val_loss: 2.0061 - val_acc: 0.2250\n"
     ]
    }
   ],
   "source": [
    "\n",
    "\n",
    "\n"
   ]
  },
  {
   "cell_type": "code",
   "execution_count": 7,
   "metadata": {},
   "outputs": [],
   "source": [
    "model.save('1000AllDirection.h5')"
   ]
  },
  {
   "cell_type": "code",
   "execution_count": null,
   "metadata": {},
   "outputs": [],
   "source": []
  }
 ],
 "metadata": {
  "kernelspec": {
   "display_name": "Python 3",
   "language": "python",
   "name": "python3"
  },
  "language_info": {
   "codemirror_mode": {
    "name": "ipython",
    "version": 3
   },
   "file_extension": ".py",
   "mimetype": "text/x-python",
   "name": "python",
   "nbconvert_exporter": "python",
   "pygments_lexer": "ipython3",
   "version": "3.6.9"
  }
 },
 "nbformat": 4,
 "nbformat_minor": 4
}
