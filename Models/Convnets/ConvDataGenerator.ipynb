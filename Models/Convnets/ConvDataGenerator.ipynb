{
 "cells": [
  {
   "cell_type": "code",
   "execution_count": 25,
   "metadata": {},
   "outputs": [],
   "source": [
    "import numpy as np\n",
    "from keras import layers\n",
    "from keras import models\n",
    "from keras import optimizers\n",
    "from keras.preprocessing.image import ImageDataGenerator\n",
    "from keras.preprocessing import image_dataset_from_directory\n",
    "from keras.callbacks import EarlyStopping, ModelCheckpoint\n",
    "from keras.regularizers import l2\n",
    "from keras.utils import to_categorical\n",
    "from keras.utils import multi_gpu_model\n",
    "from tensorflow.distribute import MirroredStrategy\n",
    "from keras.utils import Sequence\n",
    "#from keras.models import load_model\n",
    "import os\n",
    "import matplotlib.pyplot as plt\n",
    "import pickle\n",
    "rng = np.random.default_rng()\n",
    "\n",
    "\n",
    "Path = \"/home/ug-ml/felix-ML/DataGenerator2/Data\"\n",
    "DataSets = [\"/train/\", \"/validation/\"]"
   ]
  },
  {
   "cell_type": "code",
   "execution_count": 26,
   "metadata": {},
   "outputs": [],
   "source": [
    "class FelixSequence(Sequence):\n",
    "    def __init__(self, x_set, y_set, batch_size, file_type):\n",
    "        \"\"\"Here self.x is a list of paths to file_type files. self.y is a\n",
    "        corresponding list of labels.\"\"\"\n",
    "        self.x, self.y = x_set, y_set\n",
    "        self.batch_size = batch_size\n",
    "        self.file_type = file_type\n",
    "\n",
    "    def __len__(self):\n",
    "        return int(np.ceil(len(self.x) / float(self.batch_size)))\n",
    "\n",
    "    def __getitem__(self, idx):\n",
    "        batch_x = self.x[idx * self.batch_size:(idx + 1) * self.batch_size]\n",
    "        batch_y = self.y[idx * self.batch_size:(idx + 1) * self.batch_size]\n",
    "        return arrs_from_paths(batch_x, self.file_type), to_categorical(np.array(batch_y),10)\n",
    "\n",
    "def gen_paths_labels(base_path = \"D:\\\\Uni Work\\\\Masters Project\\\\test_dir\"):\n",
    "    \"\"\"A generator to yield (data-paths, corresponding labels) tuples for each\n",
    "    segment of data (typically training, validation, and testing).\"\"\"\n",
    "    for segment in sorted(os.listdir(base_path)):\n",
    "        segment_path = os.path.join(base_path, segment)\n",
    "        segment_paths = []\n",
    "        segment_labels = []\n",
    "        for label in os.listdir(segment_path):\n",
    "            label_path = os.path.join(segment_path, label)\n",
    "            for crystal in os.listdir(label_path):\n",
    "                segment_paths.append(os.path.join(label_path, crystal))\n",
    "                segment_labels.append(label)\n",
    "        indexes = np.arange(len(segment_labels))\n",
    "        rng.shuffle(indexes)\n",
    "        yield [np.array(segment_paths)[indexes], np.array(list(map(int,segment_labels)))[indexes]]\n",
    "\n",
    "def arrs_from_paths(paths, file_type):\n",
    "    if file_type == \"txt\":\n",
    "        return np.array([np.loadtxt(file_name) for file_name in paths])\n",
    "    elif file_type == \"npy\":\n",
    "        return np.array([np.load(file_name) for file_name in paths])\n"
   ]
  },
  {
   "cell_type": "code",
   "execution_count": null,
   "metadata": {},
   "outputs": [
    {
     "name": "stdout",
     "output_type": "stream",
     "text": [
      "data done.\n",
      "training_seq done.\n"
     ]
    }
   ],
   "source": [
    "data = [i for i in gen_paths_labels(Path)]\n",
    "#data[0][0] is training paths data[0][1] is training labels\n",
    "#data[1][0] is val paths data[1][1] is val labels\n",
    "print(\"data done.\")\n",
    "training_seq = FelixSequence(data[0][0], data[0][1], 32, \"npy\")\n",
    "print(\"training_seq done.\")\n",
    "#print(data[1][0])\n",
    "val_images = arrs_from_paths(data[1][0], \"npy\")\n",
    "print(\"val_images done.\")\n",
    "val_lab = to_categorical(data[1][1])\n",
    "print(\"val_lab done.\")\n"
   ]
  },
  {
   "cell_type": "code",
   "execution_count": 22,
   "metadata": {},
   "outputs": [
    {
     "name": "stdout",
     "output_type": "stream",
     "text": [
      "INFO:tensorflow:Using MirroredStrategy with devices ('/job:localhost/replica:0/task:0/device:GPU:0', '/job:localhost/replica:0/task:0/device:GPU:1')\n"
     ]
    }
   ],
   "source": [
    "strategy = MirroredStrategy()\n",
    "\n",
    "with strategy.scope():\n",
    "    model = models.Sequential()\n",
    "    model.add(layers.SeparableConv2D(128, (3, 3), activation='relu', data_format='channels_first', input_shape=(36, 128, 128)))\n",
    "    model.add(layers.MaxPooling2D((2, 2)))\n",
    "    model.add(layers.SeparableConv2D(128, (3, 3), data_format='channels_first', activation='relu'))\n",
    "    model.add(layers.MaxPooling2D((2, 2)))\n",
    "    model.add(layers.SeparableConv2D(128, (3, 3), data_format='channels_first',  activation='relu'))\n",
    "    model.add(layers.MaxPooling2D((2, 2)))\n",
    "    model.add(layers.Flatten())\n",
    "    model.add(layers.Dropout(0.25))\n",
    "    model.add(layers.Dense(512, activation='relu', kernel_regularizer = l2(0.0001)))\n",
    "    model.add(layers.Dense(10, activation='softmax', kernel_regularizer = l2(0.0001)))\n",
    "\n",
    "\n",
    "\n",
    "    model.compile(loss='categorical_crossentropy', optimizer=optimizers.RMSprop(learning_rate = 0.0005), metrics=['acc'])\n",
    "    \n",
    "model.summary()"
   ]
  },
  {
   "cell_type": "code",
   "execution_count": 23,
   "metadata": {},
   "outputs": [
    {
     "name": "stdout",
     "output_type": "stream",
     "text": [
      "Epoch 1/100\n",
      "WARNING:tensorflow:From /home/ug-ml/felix-ML/env/lib/python3.6/site-packages/tensorflow/python/data/ops/multi_device_iterator_ops.py:601: get_next_as_optional (from tensorflow.python.data.ops.iterator_ops) is deprecated and will be removed in a future version.\n",
      "Instructions for updating:\n",
      "Use `tf.data.Iterator.get_next_as_optional()` instead.\n",
      "INFO:tensorflow:batch_all_reduce: 13 all-reduces with algorithm = nccl, num_packs = 1\n",
      "INFO:tensorflow:Reduce to /job:localhost/replica:0/task:0/device:CPU:0 then broadcast to ('/job:localhost/replica:0/task:0/device:CPU:0',).\n",
      "INFO:tensorflow:Reduce to /job:localhost/replica:0/task:0/device:CPU:0 then broadcast to ('/job:localhost/replica:0/task:0/device:CPU:0',).\n",
      "INFO:tensorflow:Reduce to /job:localhost/replica:0/task:0/device:CPU:0 then broadcast to ('/job:localhost/replica:0/task:0/device:CPU:0',).\n",
      "INFO:tensorflow:Reduce to /job:localhost/replica:0/task:0/device:CPU:0 then broadcast to ('/job:localhost/replica:0/task:0/device:CPU:0',).\n",
      "INFO:tensorflow:batch_all_reduce: 13 all-reduces with algorithm = nccl, num_packs = 1\n",
      "INFO:tensorflow:Reduce to /job:localhost/replica:0/task:0/device:CPU:0 then broadcast to ('/job:localhost/replica:0/task:0/device:CPU:0',).\n",
      "INFO:tensorflow:Reduce to /job:localhost/replica:0/task:0/device:CPU:0 then broadcast to ('/job:localhost/replica:0/task:0/device:CPU:0',).\n",
      "INFO:tensorflow:Reduce to /job:localhost/replica:0/task:0/device:CPU:0 then broadcast to ('/job:localhost/replica:0/task:0/device:CPU:0',).\n",
      "INFO:tensorflow:Reduce to /job:localhost/replica:0/task:0/device:CPU:0 then broadcast to ('/job:localhost/replica:0/task:0/device:CPU:0',).\n",
      "560/560 [==============================] - ETA: 0s - loss: 1.9714 - acc: 0.2744INFO:tensorflow:Reduce to /job:localhost/replica:0/task:0/device:CPU:0 then broadcast to ('/job:localhost/replica:0/task:0/device:CPU:0',).\n",
      "INFO:tensorflow:Reduce to /job:localhost/replica:0/task:0/device:CPU:0 then broadcast to ('/job:localhost/replica:0/task:0/device:CPU:0',).\n",
      "560/560 [==============================] - 150s 268ms/step - loss: 1.9714 - acc: 0.2744 - val_loss: 2.6493 - val_acc: 0.3377\n",
      "Epoch 2/100\n",
      "560/560 [==============================] - 121s 216ms/step - loss: 1.4662 - acc: 0.5160 - val_loss: 4.5977 - val_acc: 0.5563\n",
      "Epoch 3/100\n",
      "560/560 [==============================] - 121s 215ms/step - loss: 1.1859 - acc: 0.6299 - val_loss: 8.2012 - val_acc: 0.6271\n",
      "Epoch 4/100\n",
      "560/560 [==============================] - 120s 215ms/step - loss: 1.0389 - acc: 0.6927 - val_loss: 6.0237 - val_acc: 0.6724\n",
      "Epoch 5/100\n",
      "560/560 [==============================] - 120s 214ms/step - loss: 0.9167 - acc: 0.7397 - val_loss: 6.3977 - val_acc: 0.6995\n",
      "Epoch 6/100\n",
      "560/560 [==============================] - 118s 212ms/step - loss: 0.8280 - acc: 0.7747 - val_loss: 8.0947 - val_acc: 0.7382\n",
      "Epoch 7/100\n",
      "560/560 [==============================] - 118s 210ms/step - loss: 0.7469 - acc: 0.8075 - val_loss: 9.6084 - val_acc: 0.7462\n",
      "Epoch 8/100\n",
      "560/560 [==============================] - 119s 212ms/step - loss: 0.6782 - acc: 0.8344 - val_loss: 9.4314 - val_acc: 0.7296\n",
      "Epoch 9/100\n",
      "560/560 [==============================] - 119s 213ms/step - loss: 0.6138 - acc: 0.8567 - val_loss: 6.0920 - val_acc: 0.7382\n",
      "Epoch 10/100\n",
      "560/560 [==============================] - 117s 209ms/step - loss: 0.5620 - acc: 0.8754 - val_loss: 18.5284 - val_acc: 0.7668\n",
      "Epoch 11/100\n",
      "560/560 [==============================] - 120s 215ms/step - loss: 0.5196 - acc: 0.8939 - val_loss: 13.3546 - val_acc: 0.7583\n",
      "Epoch 12/100\n",
      "560/560 [==============================] - 119s 212ms/step - loss: 0.4769 - acc: 0.9076 - val_loss: 12.3979 - val_acc: 0.7709\n",
      "Epoch 13/100\n",
      "560/560 [==============================] - 118s 212ms/step - loss: 0.4395 - acc: 0.9189 - val_loss: 16.4318 - val_acc: 0.7819\n",
      "Epoch 14/100\n",
      "560/560 [==============================] - 118s 211ms/step - loss: 0.4163 - acc: 0.9259 - val_loss: 23.3204 - val_acc: 0.7739\n",
      "Epoch 15/100\n",
      "560/560 [==============================] - 120s 215ms/step - loss: 0.3920 - acc: 0.9368 - val_loss: 20.8963 - val_acc: 0.7648\n",
      "Epoch 16/100\n",
      "560/560 [==============================] - 118s 211ms/step - loss: 0.3679 - acc: 0.9408 - val_loss: 35.6952 - val_acc: 0.7759\n",
      "Epoch 17/100\n",
      "560/560 [==============================] - 124s 222ms/step - loss: 0.3503 - acc: 0.9432 - val_loss: 28.9178 - val_acc: 0.7819\n",
      "Epoch 18/100\n",
      "560/560 [==============================] - 120s 214ms/step - loss: 0.3358 - acc: 0.9489 - val_loss: 34.9041 - val_acc: 0.7814\n",
      "Epoch 19/100\n",
      "560/560 [==============================] - 118s 211ms/step - loss: 0.3264 - acc: 0.9483 - val_loss: 19.1723 - val_acc: 0.7698\n",
      "Epoch 20/100\n",
      "560/560 [==============================] - 120s 214ms/step - loss: 0.3114 - acc: 0.9541 - val_loss: 19.0793 - val_acc: 0.7804\n",
      "Epoch 21/100\n",
      "560/560 [==============================] - 118s 211ms/step - loss: 0.3005 - acc: 0.9570 - val_loss: 22.9817 - val_acc: 0.7794\n",
      "Epoch 00021: early stopping\n"
     ]
    },
    {
     "data": {
      "image/png": "[encoded data removed]",
      "text/plain": [
       "<Figure size 432x288 with 1 Axes>"
      ]
     },
     "metadata": {
      "needs_background": "light"
     },
     "output_type": "display_data"
    },
    {
     "data": {
      "image/png": "[encoded data removed]",
      "text/plain": [
       "<Figure size 432x288 with 1 Axes>"
      ]
     },
     "metadata": {
      "needs_background": "light"
     },
     "output_type": "display_data"
    }
   ],
   "source": [
    "EarlyStop = EarlyStopping(monitor='val_loss', mode='min', verbose=1, patience=20)\n",
    "#Checkpoint = ModelCheckpoint(\"3DCovBest.hdf5\", monitor='val_loss', verbose=1, save_best_only=True, mode='min', period=1)\n",
    "\n",
    "#model = models.load_model('F:\\\\training3000\\\\pngs_thicknesses_model_L2.h5')\n",
    "#model.compile(loss='categorical_crossentropy', optimizer=\"rmsprop\", metrics=['acc'])\n",
    "\n",
    "\n",
    "history = model.fit(training_seq, \n",
    "                    epochs=100, \n",
    "                    validation_data = (val_images, val_lab), \n",
    "                    callbacks=[EarlyStop], \n",
    "                    workers = 16, \n",
    "                    use_multiprocessing = False)\n",
    "\n",
    "#model.save('3DCovLast.h5')\n",
    "\n",
    "#test_loss, test_acc = model.evaluate(test_images, test_lab)\n",
    "\n",
    "#with open('3DCovPICKLE', 'wb') as file_pi: pickle.dump(history.history, file_pi)\n",
    "\n",
    "\n",
    "acc = history.history['acc']\n",
    "val_acc = history.history['val_acc']\n",
    "loss = history.history['loss']\n",
    "val_loss = history.history['val_loss']\n",
    "epochs = range(1, len(acc) + 1)\n",
    "plt.plot(epochs, acc, 'bo', label='Training acc')\n",
    "plt.plot(epochs, val_acc, 'b', label='Validation acc')\n",
    "plt.title('Training and validation accuracy')\n",
    "plt.legend()\n",
    "plt.figure()\n",
    "plt.plot(epochs, loss, 'bo', label='Training loss')\n",
    "plt.plot(epochs, val_loss, 'b', label='Validation loss')\n",
    "plt.title('Training and validation loss')\n",
    "plt.legend()\n",
    "plt.show()\n"
   ]
  },
  {
   "cell_type": "code",
   "execution_count": 24,
   "metadata": {},
   "outputs": [],
   "source": [
    "model.save('Conv_seq_36_3000_1.h5')"
   ]
  },
  {
   "cell_type": "code",
   "execution_count": null,
   "metadata": {},
   "outputs": [],
   "source": []
  }
 ],
 "metadata": {
  "kernelspec": {
   "display_name": "Python 3",
   "language": "python",
   "name": "python3"
  },
  "language_info": {
   "codemirror_mode": {
    "name": "ipython",
    "version": 3
   },
   "file_extension": ".py",
   "mimetype": "text/x-python",
   "name": "python",
   "nbconvert_exporter": "python",
   "pygments_lexer": "ipython3",
   "version": "3.6.9"
  }
 },
 "nbformat": 4,
 "nbformat_minor": 4
}
