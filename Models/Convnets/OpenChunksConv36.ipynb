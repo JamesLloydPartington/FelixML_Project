{
 "cells": [
  {
   "cell_type": "code",
   "execution_count": 1,
   "metadata": {},
   "outputs": [],
   "source": [
    "import numpy as np\n",
    "from keras import layers\n",
    "from keras import models\n",
    "from keras import optimizers\n",
    "from keras.preprocessing.image import ImageDataGenerator\n",
    "from keras.preprocessing import image_dataset_from_directory\n",
    "from keras.callbacks import EarlyStopping, ModelCheckpoint\n",
    "from keras.regularizers import l2\n",
    "from keras.utils import to_categorical\n",
    "#from keras.models import load_model\n",
    "import os\n",
    "import matplotlib.pyplot as plt\n",
    "import pickle\n",
    "\n",
    "\n",
    "Path = \"/media/ug-ml/Samsung_T5/training3000/AllDirectionDataSet\"\n",
    "\n",
    "ChunkImage = \"ChunkImage_\"\n",
    "ChunkLabel = \"ChunkLabel_\"\n",
    "NameNumbers = 0\n",
    "MaxChunk = 101\n",
    "\n",
    "rng = np.random.default_rng()\n",
    "\n",
    "Chunk_Size = 8\n",
    "\n",
    "ShuffleIndex = np.arange(MaxChunk, dtype = np.int)\n",
    "rng.shuffle(ShuffleIndex)\n",
    "\n",
    "RatioTrain = 0.9\n",
    "\n",
    "TrainNo = int(MaxChunk * RatioTrain)\n",
    "TrainIndex = ShuffleIndex[0:TrainNo]\n",
    "ValIndex = ShuffleIndex[TrainNo:-1]"
   ]
  },
  {
   "cell_type": "code",
   "execution_count": 2,
   "metadata": {},
   "outputs": [],
   "source": [
    "\n",
    "os.environ[\"TF_CPP_MIN_LOG_LEVEL\"]=\"3\"\n",
    "\n",
    "PixelDimension = 36\n"
   ]
  },
  {
   "cell_type": "code",
   "execution_count": 3,
   "metadata": {},
   "outputs": [],
   "source": [
    "model = models.Sequential()\n",
    "model.add(layers.SeparableConv2D(128, (3, 3), activation='relu', data_format='channels_first', input_shape=(PixelDimension, 128, 128)))\n",
    "model.add(layers.MaxPooling2D((2, 2)))\n",
    "model.add(layers.SeparableConv2D(128, (3, 3), data_format='channels_first', activation='relu'))\n",
    "model.add(layers.MaxPooling2D((2, 2)))\n",
    "model.add(layers.SeparableConv2D(128, (3, 3), data_format='channels_first',  activation='relu'))\n",
    "model.add(layers.MaxPooling2D((2, 2)))\n",
    "model.add(layers.Flatten())\n",
    "model.add(layers.Dropout(0.25))\n",
    "model.add(layers.Dense(512, activation='relu', kernel_regularizer = l2(0.0001)))\n",
    "model.add(layers.Dense(10, activation='softmax', kernel_regularizer = l2(0.0001)))\n",
    "\n",
    "model.compile(loss='categorical_crossentropy', optimizer=optimizers.RMSprop(learning_rate = 0.0005), metrics=['acc'])\n",
    "\n",
    "#model.summary()\n",
    "\n",
    "\n",
    "EarlyStop = EarlyStopping(monitor='val_loss', mode='min', verbose=1, patience=20)\n",
    "#Checkpoint = ModelCheckpoint(\"3DCovBest.hdf5\", monitor='val_loss', verbose=1, save_best_only=True, mode='min', period=1)"
   ]
  },
  {
   "cell_type": "code",
   "execution_count": 6,
   "metadata": {},
   "outputs": [
    {
     "ename": "KeyboardInterrupt",
     "evalue": "",
     "output_type": "error",
     "traceback": [
      "\u001b[0;31m---------------------------------------------------------------------------\u001b[0m",
      "\u001b[0;31mKeyboardInterrupt\u001b[0m                         Traceback (most recent call last)",
      "\u001b[0;32m<ipython-input-6-53445a0ed077>\u001b[0m in \u001b[0;36m<module>\u001b[0;34m\u001b[0m\n\u001b[1;32m     24\u001b[0m \u001b[0;34m\u001b[0m\u001b[0m\n\u001b[1;32m     25\u001b[0m     \u001b[0mtrain_images\u001b[0m \u001b[0;34m=\u001b[0m \u001b[0mtrain_images\u001b[0m\u001b[0;34m.\u001b[0m\u001b[0mreshape\u001b[0m\u001b[0;34m(\u001b[0m\u001b[0;34m-\u001b[0m\u001b[0;36m1\u001b[0m\u001b[0;34m,\u001b[0m \u001b[0;36m36\u001b[0m\u001b[0;34m,\u001b[0m \u001b[0;36m128\u001b[0m\u001b[0;34m,\u001b[0m \u001b[0;36m128\u001b[0m\u001b[0;34m)\u001b[0m\u001b[0;34m\u001b[0m\u001b[0;34m\u001b[0m\u001b[0m\n\u001b[0;32m---> 26\u001b[0;31m     \u001b[0mtrain_images\u001b[0m \u001b[0;34m=\u001b[0m \u001b[0mtrain_images\u001b[0m\u001b[0;34m[\u001b[0m\u001b[0mBatchShuffle\u001b[0m\u001b[0;34m]\u001b[0m\u001b[0;34m\u001b[0m\u001b[0;34m\u001b[0m\u001b[0m\n\u001b[0m\u001b[1;32m     27\u001b[0m     \u001b[0mtrain_lab\u001b[0m \u001b[0;34m=\u001b[0m \u001b[0mtrain_lab\u001b[0m\u001b[0;34m.\u001b[0m\u001b[0mreshape\u001b[0m\u001b[0;34m(\u001b[0m\u001b[0;34m-\u001b[0m\u001b[0;36m1\u001b[0m\u001b[0;34m)\u001b[0m\u001b[0;34m\u001b[0m\u001b[0;34m\u001b[0m\u001b[0m\n\u001b[1;32m     28\u001b[0m     \u001b[0mtrain_lab\u001b[0m \u001b[0;34m=\u001b[0m \u001b[0mto_categorical\u001b[0m\u001b[0;34m(\u001b[0m\u001b[0mtrain_lab\u001b[0m\u001b[0;34m[\u001b[0m\u001b[0mBatchShuffle\u001b[0m\u001b[0;34m]\u001b[0m\u001b[0;34m)\u001b[0m\u001b[0;34m\u001b[0m\u001b[0;34m\u001b[0m\u001b[0m\n",
      "\u001b[0;31mKeyboardInterrupt\u001b[0m: "
     ]
    }
   ],
   "source": [
    "\n",
    "Epochs = 100\n",
    "TrainLoadedChunks = 20\n",
    "EpochsChunk = int(Epochs * TrainIndex.shape[0] / TrainLoadedChunks)\n",
    "\n",
    "\n",
    "BatchShuffle = np.arange(Chunk_Size * 10 * TrainLoadedChunks, dtype = int).reshape(TrainLoadedChunks * Chunk_Size * 10)\n",
    "rng.shuffle(BatchShuffle)\n",
    "\n",
    "index = 0\n",
    "for i in range(0, EpochsChunk):\n",
    "    \n",
    "    train_images = np.zeros(Chunk_Size * 10 * 36 * TrainLoadedChunks * 128 * 128, dtype = np.float32).reshape(TrainLoadedChunks, Chunk_Size * 10, 36, 128, 128)\n",
    "    train_lab = np.zeros(Chunk_Size * 10 * TrainLoadedChunks, dtype = np.int).reshape(TrainLoadedChunks, Chunk_Size * 10)\n",
    "    for j in range(0, TrainLoadedChunks):\n",
    "        index = i * TrainLoadedChunks + j\n",
    "        TrainChunk_i = TrainIndex[index % TrainIndex.shape[0]]\n",
    "        #print(\"Train Chunk\", TrainChunk_i)\n",
    "        \n",
    "        \n",
    "        \n",
    "        \n",
    "        train_images[j] = np.load(Path + \"/\" + ChunkImage + str(TrainChunk_i) + \".npy\")\n",
    "        train_lab[j] = np.load(Path + \"/\" + ChunkLabel + str(TrainChunk_i) + \".npy\")\n",
    "    \n",
    "    train_images = train_images.reshape(-1, 36, 128, 128)\n",
    "    train_images = train_images[BatchShuffle]\n",
    "    train_lab = train_lab.reshape(-1)\n",
    "    train_lab = to_categorical(train_lab[BatchShuffle])\n",
    "    \n",
    "    ValChunk_i = ValIndex[(i * TrainLoadedChunks) % ValIndex.shape[0]]\n",
    "    #print(\"Val Chunk\", ValChunk_i)\n",
    "    \n",
    "    val_images = np.load(Path + \"/\" + ChunkImage + str(ValChunk_i) + \".npy\")\n",
    "    val_lab = to_categorical(np.load(Path + \"/\" + ChunkLabel + str(ValChunk_i) + \".npy\"))\n",
    "    \n",
    "    \n",
    "    print(\"EPOCH: \", int(i / TrainIndex.shape[0]), \"CHUNK: \", i % TrainIndex.shape[0])\n",
    "    history = model.fit(train_images, train_lab, epochs=1, batch_size = 64, validation_data = (val_images, val_lab), shuffle = True, callbacks=[EarlyStop]) #, Checkpoint\n",
    "\n",
    "    #model.save('1000AllDirection.h5')\n",
    "\n",
    "\n"
   ]
  },
  {
   "cell_type": "code",
   "execution_count": null,
   "metadata": {},
   "outputs": [],
   "source": []
  }
 ],
 "metadata": {
  "kernelspec": {
   "display_name": "Python 3",
   "language": "python",
   "name": "python3"
  }
 },
 "nbformat": 4,
 "nbformat_minor": 4
}
