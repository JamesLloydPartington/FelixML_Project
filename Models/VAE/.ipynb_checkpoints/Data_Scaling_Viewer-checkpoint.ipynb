{
 "cells": [
  {
   "cell_type": "code",
   "execution_count": 24,
   "metadata": {},
   "outputs": [
    {
     "name": "stdout",
     "output_type": "stream",
     "text": [
      "[[243.72803564 247.60090572]\n",
      " [243.72803564 247.60090572]\n",
      " [243.72803564 247.60090572]]\n",
      "[[981.06355794 530.80840047 496.29856364 ...          nan          nan\n",
      "           nan]\n",
      " [970.90506999 528.04321289 493.89623006 ...          nan          nan\n",
      "           nan]\n",
      " [ 10.15850917   2.76518734   2.40236801 ...          nan          nan\n",
      "           nan]]\n",
      "[[526.46920776 499.80853271 479.90130615 ...          nan          nan\n",
      "           nan]]\n"
     ]
    },
    {
     "name": "stderr",
     "output_type": "stream",
     "text": [
      "/home/ug-ml/felix-ML/env/lib/python3.6/site-packages/ipykernel_launcher.py:11: RuntimeWarning: Mean of empty slice\n",
      "  # This is added back by InteractiveShellApp.init_path()\n"
     ]
    }
   ],
   "source": [
    "import numpy as np\n",
    "import matplotlib.pyplot as plt\n",
    "\n",
    "a = np.load(\"0.05james_hist.npy\")\n",
    "\n",
    "c = np.nanmean(np.load(\"0.05val_hist.npy\"), axis = 0)\n",
    "c[c==0] = np.nan\n",
    "\n",
    "b = np.load(\"0.05train_hist.npy\")\n",
    "b[b==0] = np.nan\n",
    "b = np.nanmean(b, axis=0)\n",
    "print(a)\n",
    "print(b)\n",
    "print(c)\n",
    "xc = np.arange(0, c.size)\n",
    "xb = np.arange(0, b[0].size)"
   ]
  },
  {
   "cell_type": "code",
   "execution_count": 15,
   "metadata": {},
   "outputs": [
    {
     "data": {
      "image/png": "[encoded data removed]",
      "text/plain": [
       "<Figure size 432x288 with 1 Axes>"
      ]
     },
     "metadata": {
      "needs_background": "light"
     },
     "output_type": "display_data"
    }
   ],
   "source": [
    "plt.scatter(xc,c)\n",
    "plt.show()"
   ]
  },
  {
   "cell_type": "code",
   "execution_count": null,
   "metadata": {},
   "outputs": [],
   "source": [
    "plt.scatter(xb,c)"
   ]
  }
 ],
 "metadata": {
  "kernelspec": {
   "display_name": "Python 3",
   "language": "python",
   "name": "python3"
  },
  "language_info": {
   "codemirror_mode": {
    "name": "ipython",
    "version": 3
   },
   "file_extension": ".py",
   "mimetype": "text/x-python",
   "name": "python",
   "nbconvert_exporter": "python",
   "pygments_lexer": "ipython3",
   "version": "3.6.9"
  }
 },
 "nbformat": 4,
 "nbformat_minor": 4
}
