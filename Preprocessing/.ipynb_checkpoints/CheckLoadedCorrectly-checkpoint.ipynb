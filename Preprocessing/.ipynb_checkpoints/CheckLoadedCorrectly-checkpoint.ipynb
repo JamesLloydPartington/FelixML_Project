{
 "cells": [
  {
   "cell_type": "code",
   "execution_count": 1,
   "metadata": {},
   "outputs": [
    {
     "name": "stdout",
     "output_type": "stream",
     "text": [
      "Cd225H9376S2338Al92Si100_+0+0+0.bin\n",
      "Cd225H9376S2338Al92Si100_+10+0+0.bin\n",
      "Cd225H9376S2338Al92Si100_+10+10+0.bin\n",
      "Cd225H9376S2338Al92Si100_+10+2+0.bin\n",
      "Cd225H9376S2338Al92Si100_+10+4+0.bin\n",
      "Cd225H9376S2338Al92Si100_+10+6+0.bin\n",
      "Cd225H9376S2338Al92Si100_+10+8+0.bin\n",
      "Cd225H9376S2338Al92Si100_+12+0+0.bin\n",
      "Cd225H9376S2338Al92Si100_+12+10+0.bin\n",
      "Cd225H9376S2338Al92Si100_+12+12+0.bin\n",
      "Cd225H9376S2338Al92Si100_+12+2+0.bin\n",
      "Cd225H9376S2338Al92Si100_+12+4+0.bin\n",
      "Cd225H9376S2338Al92Si100_+12+6+0.bin\n",
      "Cd225H9376S2338Al92Si100_+12+8+0.bin\n",
      "Cd225H9376S2338Al92Si100_+14+0+0.bin\n",
      "Cd225H9376S2338Al92Si100_+14+10+0.bin\n",
      "Cd225H9376S2338Al92Si100_+14+12+0.bin\n",
      "Cd225H9376S2338Al92Si100_+14+14+0.bin\n",
      "Cd225H9376S2338Al92Si100_+14+2+0.bin\n",
      "Cd225H9376S2338Al92Si100_+14+4+0.bin\n",
      "Cd225H9376S2338Al92Si100_+14+6+0.bin\n",
      "Cd225H9376S2338Al92Si100_+14+8+0.bin\n",
      "Cd225H9376S2338Al92Si100_+16+0+0.bin\n",
      "Cd225H9376S2338Al92Si100_+16+10+0.bin\n",
      "Cd225H9376S2338Al92Si100_+16+12+0.bin\n",
      "Cd225H9376S2338Al92Si100_+16+2+0.bin\n",
      "Cd225H9376S2338Al92Si100_+16+4+0.bin\n",
      "Cd225H9376S2338Al92Si100_+16+6+0.bin\n",
      "Cd225H9376S2338Al92Si100_+16+8+0.bin\n",
      "Cd225H9376S2338Al92Si100_+18+0+0.bin\n",
      "Cd225H9376S2338Al92Si100_+18+2+0.bin\n",
      "Cd225H9376S2338Al92Si100_+18+4+0.bin\n",
      "Cd225H9376S2338Al92Si100_+18+6+0.bin\n",
      "Cd225H9376S2338Al92Si100_+18+8+0.bin\n",
      "Cd225H9376S2338Al92Si100_+2+0+0.bin\n",
      "Cd225H9376S2338Al92Si100_+2+2+0.bin\n",
      "Cd225H9376S2338Al92Si100_+20+0+0.bin\n",
      "Cd225H9376S2338Al92Si100_+4+0+0.bin\n",
      "Cd225H9376S2338Al92Si100_+4+2+0.bin\n",
      "Cd225H9376S2338Al92Si100_+4+4+0.bin\n",
      "Cd225H9376S2338Al92Si100_+6+0+0.bin\n",
      "Cd225H9376S2338Al92Si100_+6+2+0.bin\n",
      "Cd225H9376S2338Al92Si100_+6+4+0.bin\n",
      "Cd225H9376S2338Al92Si100_+6+6+0.bin\n",
      "Cd225H9376S2338Al92Si100_+8+0+0.bin\n",
      "Cd225H9376S2338Al92Si100_+8+2+0.bin\n",
      "Cd225H9376S2338Al92Si100_+8+4+0.bin\n",
      "Cd225H9376S2338Al92Si100_+8+6+0.bin\n",
      "Cd225H9376S2338Al92Si100_+8+8+0.bin\n",
      "Cd225H9376S2338Al92Si100_0000.cif\n",
      "StructureFactors.txt\n"
     ]
    }
   ],
   "source": [
    "import numpy as np\n",
    "import os\n",
    "\n",
    "\n",
    "Path = \"/home/ug-ml/felix-ML/TrainingDataRaw/1001to2000/1002/Cd225H9376S2338Al92Si100_Sim_0050A_128x128\"\n",
    "NewPath = \"/home/ug-ml/felix-ML/DataGenerator2/Data/training/0\"\n",
    "\n",
    "Path_i = \"/Cd225H9376S2338Al92Si100_+0+0+0.bin\"\n",
    "NewPath_i = \"/Crystal_1002.npy\"\n",
    "\n",
    "FolderPath = sorted(os.listdir(Path))\n",
    "\n",
    "for i in FolderPath:\n",
    "    data = np.fromfile(BinFilePath + \"/\" + i, dtype=np.float64).reshape(128, 128)\n",
    "    print(i)\n",
    "    print(data)\n",
    "\n",
    "    \n",
    "    \n",
    "New = np.load(NewPath+NewPath_i)\n",
    "i_i = 0\n",
    "for i in New:\n",
    "    print(i_i)\n",
    "    print(i)\n",
    "\n",
    "#Original = np.load(Path+\"/Cu2Br8WBr6_0050_+0+0+0.npy\")\n",
    "#\n",
    "\n",
    "#print(Original)\n",
    "#print(New[0])\n"
   ]
  },
  {
   "cell_type": "code",
   "execution_count": null,
   "metadata": {},
   "outputs": [],
   "source": []
  }
 ],
 "metadata": {
  "kernelspec": {
   "display_name": "Python 3",
   "language": "python",
   "name": "python3"
  },
  "language_info": {
   "codemirror_mode": {
    "name": "ipython",
    "version": 3
   },
   "file_extension": ".py",
   "mimetype": "text/x-python",
   "name": "python",
   "nbconvert_exporter": "python",
   "pygments_lexer": "ipython3",
   "version": "3.6.9"
  }
 },
 "nbformat": 4,
 "nbformat_minor": 4
}
