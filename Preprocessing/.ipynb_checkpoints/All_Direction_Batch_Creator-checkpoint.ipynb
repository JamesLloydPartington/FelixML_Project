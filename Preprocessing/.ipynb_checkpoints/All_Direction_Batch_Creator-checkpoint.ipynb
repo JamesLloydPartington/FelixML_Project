{
 "cells": [
  {
   "cell_type": "code",
   "execution_count": 1,
   "metadata": {},
   "outputs": [],
   "source": [
    "import numpy as np\n",
    "import os\n",
    "\n",
    "\n",
    "Path = \"/media/ug-ml/Samsung_T5/training3000/1000to2000_all_directions\"\n",
    "NewPath = \"/media/ug-ml/Samsung_T5/training3000/AllDirectionDataSet\"\n",
    "\n",
    "NameNumber = 1000 #for 1-1000 = 0. For 1001-2000 = 1000 ect\n",
    "\n"
   ]
  },
  {
   "cell_type": "code",
   "execution_count": 2,
   "metadata": {},
   "outputs": [],
   "source": [
    "def ThicknessString(String): #Takes the file name string, looks at the thickness part and returns a integer corresponding to the thickness class\n",
    "    if(String == \"0050\"):\n",
    "        return 0\n",
    "    elif(String == \"0250\"):\n",
    "        return 1\n",
    "    elif(String == \"0450\"):\n",
    "        return 2\n",
    "    elif(String == \"0650\"):\n",
    "        return 3\n",
    "    elif(String == \"0850\"):\n",
    "        return 4\n",
    "    elif(String == \"1050\"):\n",
    "        return 5\n",
    "    elif(String == \"1250\"):\n",
    "        return 6\n",
    "    elif(String == \"1450\"):\n",
    "        return 7\n",
    "    elif(String == \"1650\"):\n",
    "        return 8\n",
    "    elif(String == \"1850\"):\n",
    "        return 9\n",
    "    else: #If something goes wrong, an error will be printed\n",
    "        print(\"ERROR\")\n",
    "        return 10\n",
    "\n",
    "def Position():\n",
    "    IndexArray = np.zeros(8 * 8, dtype = int).reshape(8, 8) #Declare Image array\n",
    "    index = 0\n",
    "    for i in range(0, 8):\n",
    "        for j in range(0, 8):\n",
    "            if(i >= j):\n",
    "                IndexArray[i][j] = index\n",
    "                index+=1\n",
    "    return IndexArray\n",
    "\n",
    "DirectionIndex = Position()\n",
    "\n"
   ]
  },
  {
   "cell_type": "code",
   "execution_count": 3,
   "metadata": {},
   "outputs": [],
   "source": [
    "#Sort list of all files in directory\n",
    "imageName = sorted(os.listdir(Path)) #Sorts the lists of all the crysrals in alphabetical order, and will also order the thicknesses."
   ]
  },
  {
   "cell_type": "code",
   "execution_count": 4,
   "metadata": {},
   "outputs": [
    {
     "name": "stdout",
     "output_type": "stream",
     "text": [
      "Total Number of files: 346300 Total Number of crystals (excluding 0) 745\n"
     ]
    }
   ],
   "source": [
    "#Check to see number of files and crystals\n",
    "TotalNumberFiles = 0\n",
    "CrystalName = imageName[0].split(\"_\")[0]\n",
    "CrystalNameNext = \"\"\n",
    "TotalNumberCrystals = 0\n",
    "for i in imageName:\n",
    "    TotalNumberFiles += 1\n",
    "    CrystalNameNext = i.split(\"_\")[0]\n",
    "    if(CrystalNameNext != CrystalName):\n",
    "        TotalNumberCrystals+=1\n",
    "        CrystalName = CrystalNameNext\n",
    "print(\"Total Number of files:\", TotalNumberFiles, \"Total Number of crystals (excluding 0)\", TotalNumberCrystals)"
   ]
  },
  {
   "cell_type": "code",
   "execution_count": 5,
   "metadata": {},
   "outputs": [],
   "source": [
    "CrystalName = imageName[0].split(\"_\")[0]\n",
    "CrystalNameNext = \"\"\n",
    "NameArray = []\n",
    "AllCrystalNameArray = []\n",
    "for i in imageName:\n",
    "    CrystalNameNext = i.split(\"_\")[0]\n",
    "    Direction = list(map(int, i.split(\"_\")[2][:-4].split(\"+\")[1:]))\n",
    "    if(CrystalNameNext != CrystalName):\n",
    "        CrystalName = CrystalNameNext\n",
    "        AllCrystalNameArray.append(NameArray)\n",
    "        NameArray = []\n",
    "        \n",
    "    if(Direction[0] <= 14 and Direction[1] <=14):\n",
    "            NameArray.append(i)\n",
    "    \n",
    "\n"
   ]
  },
  {
   "cell_type": "code",
   "execution_count": null,
   "metadata": {},
   "outputs": [
    {
     "name": "stdout",
     "output_type": "stream",
     "text": [
      "Reduced size to: 744\n",
      "0 0\n",
      "0 1\n",
      "0 2\n"
     ]
    }
   ],
   "source": [
    "rng = np.random.default_rng()\n",
    "\n",
    "Chunk_Size = 8\n",
    "\n",
    "CropedSize = TotalNumberCrystals - TotalNumberCrystals % Chunk_Size\n",
    "print(\"Reduced size to:\", CropedSize)\n",
    "\n",
    "\n",
    "\n",
    "ShuffleIndex = np.arange(TotalNumberCrystals, dtype = np.int)\n",
    "rng.shuffle(ShuffleIndex)\n",
    "\n",
    "ChunkArray = np.zeros(Chunk_Size * 10 * 36 * 128 * 128, dtype = np.float32).reshape(Chunk_Size, 10, 36, 128, 128)\n",
    "ChunkArrayLab = np.zeros(Chunk_Size * 10, dtype = int).reshape(Chunk_Size, 10)\n",
    "\n",
    "\n",
    "index_size = 0\n",
    "ChunkNumber = 0\n",
    "\n",
    "\n",
    "File1  = open(NewPath +\"/KeyChunk_\" + str(NameNumber) + \".txt\", \"w+\")\n",
    "for i in range(0, CropedSize):\n",
    "    if(index_size == Chunk_Size):\n",
    "        ChunkArray_resize = ChunkArray.reshape(Chunk_Size * 10, 36, 128, 128)\n",
    "        ChunkArrayLab_resize = ChunkArrayLab.reshape(Chunk_Size * 10)\n",
    "        np.save(NewPath + \"/ChunkImage_\" + str(NameNumber + ChunkNumber) + \".npy\", ChunkArray_resize)\n",
    "        np.save(NewPath + \"/ChunkLabel_\" + str(NameNumber + ChunkNumber) + \".npy\", ChunkArrayLab_resize)\n",
    "        ChunkNumber+=1\n",
    "        index_size = 0\n",
    "    print(ChunkNumber, index_size)\n",
    "    \n",
    "    for j in AllCrystalNameArray[ShuffleIndex[i]]:\n",
    "        data = np.load(Path + \"/\" + j)\n",
    "        Thickness = j.split(\"_\")[1]\n",
    "        thickness_i = ThicknessString(Thickness)\n",
    "        Direction = list(map(int, j.split(\"_\")[2][:-4].split(\"+\")[1:]))\n",
    "        Directon_i = DirectionIndex[int(Direction[0]/2)][int(Direction[1]/2)]\n",
    "        ChunkArray[index_size][thickness_i][Directon_i] = data\n",
    "        ChunkArrayLab[index_size][thickness_i] = thickness_i\n",
    "        \n",
    "        File1.write(str(ChunkNumber)+\" \"+ str(index_size) +\" \" + str(thickness_i) +\" \" + str(Direction) + \" \" + j +\"\\n\")\n",
    "    index_size+=1\n",
    "    \n",
    "File1.close()"
   ]
  },
  {
   "cell_type": "code",
   "execution_count": null,
   "metadata": {},
   "outputs": [],
   "source": []
  },
  {
   "cell_type": "code",
   "execution_count": null,
   "metadata": {},
   "outputs": [],
   "source": []
  },
  {
   "cell_type": "code",
   "execution_count": null,
   "metadata": {},
   "outputs": [],
   "source": [
    "\n",
    "\n",
    "File1.close()\n",
    "np.save(NewPath+\"/ImageData.npy\", AllData) #The image data is saved as ImageData.npy\n",
    "np.save(NewPath+\"/ImageLab.npy\", AllLabel) #The label data is saved as AllLabel.npy and the Key is was saved as Key.txt\n",
    "\n",
    "\n",
    "print(\"Number of images:\", fileNo) #Check to see how many images there are"
   ]
  },
  {
   "cell_type": "code",
   "execution_count": null,
   "metadata": {},
   "outputs": [],
   "source": []
  },
  {
   "cell_type": "code",
   "execution_count": null,
   "metadata": {},
   "outputs": [],
   "source": []
  }
 ],
 "metadata": {
  "kernelspec": {
   "display_name": "Python 3",
   "language": "python",
   "name": "python3"
  },
  "language_info": {
   "codemirror_mode": {
    "name": "ipython",
    "version": 3
   },
   "file_extension": ".py",
   "mimetype": "text/x-python",
   "name": "python",
   "nbconvert_exporter": "python",
   "pygments_lexer": "ipython3",
   "version": "3.6.9"
  }
 },
 "nbformat": 4,
 "nbformat_minor": 4
}
