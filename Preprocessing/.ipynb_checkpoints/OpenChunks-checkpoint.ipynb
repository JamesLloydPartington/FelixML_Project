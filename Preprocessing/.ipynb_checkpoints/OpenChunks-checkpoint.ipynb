{
 "cells": [
  {
   "cell_type": "code",
   "execution_count": 2,
   "metadata": {},
   "outputs": [],
   "source": [
    "import numpy as np\n",
    "from keras import layers\n",
    "from keras import models\n",
    "from keras import optimizers\n",
    "from keras.preprocessing.image import ImageDataGenerator\n",
    "from keras.preprocessing import image_dataset_from_directory\n",
    "from keras.callbacks import EarlyStopping, ModelCheckpoint\n",
    "from keras.regularizers import l2\n",
    "from keras.utils import to_categorical\n",
    "#from keras.models import load_model\n",
    "import os\n",
    "import matplotlib.pyplot as plt\n",
    "import pickle\n",
    "\n",
    "\n",
    "Path = \"/media/ug-ml/Samsung_T5/training3000/AllDirectionDataSet\"\n",
    "\n",
    "ChunkImage = \"ChunkImage_\"\n",
    "ChunkLabel = \"ChunkLabel_\"\n",
    "NameNumbers = 0\n",
    "MaxChunk = 101\n",
    "\n",
    "rng = np.random.default_rng()\n",
    "\n",
    "Chunk_Size = 8\n",
    "\n",
    "ShuffleIndex = np.arange(MaxChunk, dtype = np.int)\n",
    "rng.shuffle(ShuffleIndex)\n",
    "\n",
    "RatioTrain = 0.9\n",
    "\n",
    "TrainNo = int(MaxChunk * RatioTrain)\n",
    "TrainIndex = ShuffleIndex[0:TrainNo]\n",
    "ValIndex = ShuffleIndex[TrainNo:-1]"
   ]
  },
  {
   "cell_type": "code",
   "execution_count": 3,
   "metadata": {},
   "outputs": [],
   "source": [
    "\n",
    "os.environ[\"TF_CPP_MIN_LOG_LEVEL\"]=\"3\"\n",
    "\n",
    "PixelDimension = 36\n"
   ]
  },
  {
   "cell_type": "code",
   "execution_count": 20,
   "metadata": {},
   "outputs": [],
   "source": [
    "model = models.Sequential()\n",
    "model.add(layers.SeparableConv2D(128, (3, 3), activation='relu', data_format='channels_first', input_shape=(PixelDimension, 128, 128)))\n",
    "model.add(layers.MaxPooling2D((2, 2)))\n",
    "model.add(layers.SeparableConv2D(128, (3, 3), data_format='channels_first', activation='relu'))\n",
    "model.add(layers.MaxPooling2D((2, 2)))\n",
    "model.add(layers.SeparableConv2D(128, (3, 3), data_format='channels_first',  activation='relu'))\n",
    "model.add(layers.MaxPooling2D((2, 2)))\n",
    "model.add(layers.Flatten())\n",
    "model.add(layers.Dropout(0.25))\n",
    "model.add(layers.Dense(512, activation='relu', kernel_regularizer = l2(0.0001)))\n",
    "model.add(layers.Dense(10, activation='softmax', kernel_regularizer = l2(0.0001)))\n",
    "\n",
    "model.compile(loss='categorical_crossentropy', optimizer=optimizers.RMSprop(learning_rate = 0.0005), metrics=['acc'])\n",
    "\n",
    "#model.summary()\n",
    "\n",
    "\n",
    "EarlyStop = EarlyStopping(monitor='val_loss', mode='min', verbose=1, patience=20)\n",
    "#Checkpoint = ModelCheckpoint(\"3DCovBest.hdf5\", monitor='val_loss', verbose=1, save_best_only=True, mode='min', period=1)"
   ]
  },
  {
   "cell_type": "code",
   "execution_count": 35,
   "metadata": {},
   "outputs": [
    {
     "name": "stdout",
     "output_type": "stream",
     "text": [
      "Train Chunk 7\n",
      "Train Chunk 68\n",
      "Train Chunk 4\n",
      "Train Chunk 93\n",
      "Train Chunk 64\n",
      "Val Chunk 39\n",
      "EPOCH:  0 CHUNK:  0\n",
      "Epoch 1/5\n",
      "2/7 [=======>......................] - ETA: 0s - loss: 2.8564 - acc: 0.0938WARNING:tensorflow:Callbacks method `on_train_batch_end` is slow compared to the batch time (batch time: 0.1166s vs `on_train_batch_end` time: 0.2046s). Check your callbacks.\n",
      "7/7 [==============================] - 2s 300ms/step - loss: 2.5761 - acc: 0.1000 - val_loss: 2.3846 - val_acc: 0.1000\n",
      "Epoch 2/5\n",
      "7/7 [==============================] - 2s 325ms/step - loss: 2.3772 - acc: 0.1000 - val_loss: 2.3610 - val_acc: 0.1000\n",
      "Epoch 3/5\n",
      "7/7 [==============================] - 2s 309ms/step - loss: 2.3595 - acc: 0.1000 - val_loss: 2.3503 - val_acc: 0.1000\n",
      "Epoch 4/5\n",
      "7/7 [==============================] - 2s 309ms/step - loss: 2.3479 - acc: 0.1075 - val_loss: 2.3406 - val_acc: 0.1000\n",
      "Epoch 5/5\n",
      "7/7 [==============================] - 2s 302ms/step - loss: 2.3371 - acc: 0.1000 - val_loss: 2.3294 - val_acc: 0.1000\n",
      "Train Chunk 62\n",
      "Train Chunk 24\n",
      "Train Chunk 15\n"
     ]
    },
    {
     "ename": "KeyboardInterrupt",
     "evalue": "",
     "output_type": "error",
     "traceback": [
      "\u001b[0;31m---------------------------------------------------------------------------\u001b[0m",
      "\u001b[0;31mKeyboardInterrupt\u001b[0m                         Traceback (most recent call last)",
      "\u001b[0;32m<ipython-input-35-8806d4f3c441>\u001b[0m in \u001b[0;36m<module>\u001b[0;34m\u001b[0m\n\u001b[1;32m     20\u001b[0m \u001b[0;34m\u001b[0m\u001b[0m\n\u001b[1;32m     21\u001b[0m \u001b[0;34m\u001b[0m\u001b[0m\n\u001b[0;32m---> 22\u001b[0;31m         \u001b[0mtrain_images\u001b[0m\u001b[0;34m[\u001b[0m\u001b[0mj\u001b[0m\u001b[0;34m]\u001b[0m \u001b[0;34m=\u001b[0m \u001b[0mnp\u001b[0m\u001b[0;34m.\u001b[0m\u001b[0mload\u001b[0m\u001b[0;34m(\u001b[0m\u001b[0mPath\u001b[0m \u001b[0;34m+\u001b[0m \u001b[0;34m\"/\"\u001b[0m \u001b[0;34m+\u001b[0m \u001b[0mChunkImage\u001b[0m \u001b[0;34m+\u001b[0m \u001b[0mstr\u001b[0m\u001b[0;34m(\u001b[0m\u001b[0mTrainChunk_i\u001b[0m\u001b[0;34m)\u001b[0m \u001b[0;34m+\u001b[0m \u001b[0;34m\".npy\"\u001b[0m\u001b[0;34m)\u001b[0m\u001b[0;34m\u001b[0m\u001b[0;34m\u001b[0m\u001b[0m\n\u001b[0m\u001b[1;32m     23\u001b[0m         \u001b[0mtrain_lab\u001b[0m\u001b[0;34m[\u001b[0m\u001b[0mj\u001b[0m\u001b[0;34m]\u001b[0m \u001b[0;34m=\u001b[0m \u001b[0mnp\u001b[0m\u001b[0;34m.\u001b[0m\u001b[0mload\u001b[0m\u001b[0;34m(\u001b[0m\u001b[0mPath\u001b[0m \u001b[0;34m+\u001b[0m \u001b[0;34m\"/\"\u001b[0m \u001b[0;34m+\u001b[0m \u001b[0mChunkLabel\u001b[0m \u001b[0;34m+\u001b[0m \u001b[0mstr\u001b[0m\u001b[0;34m(\u001b[0m\u001b[0mTrainChunk_i\u001b[0m\u001b[0;34m)\u001b[0m \u001b[0;34m+\u001b[0m \u001b[0;34m\".npy\"\u001b[0m\u001b[0;34m)\u001b[0m\u001b[0;34m\u001b[0m\u001b[0;34m\u001b[0m\u001b[0m\n\u001b[1;32m     24\u001b[0m \u001b[0;34m\u001b[0m\u001b[0m\n",
      "\u001b[0;32m~/felix-ML/env/lib/python3.6/site-packages/numpy/lib/npyio.py\u001b[0m in \u001b[0;36mload\u001b[0;34m(file, mmap_mode, allow_pickle, fix_imports, encoding)\u001b[0m\n\u001b[1;32m    451\u001b[0m             \u001b[0;32melse\u001b[0m\u001b[0;34m:\u001b[0m\u001b[0;34m\u001b[0m\u001b[0;34m\u001b[0m\u001b[0m\n\u001b[1;32m    452\u001b[0m                 return format.read_array(fid, allow_pickle=allow_pickle,\n\u001b[0;32m--> 453\u001b[0;31m                                          pickle_kwargs=pickle_kwargs)\n\u001b[0m\u001b[1;32m    454\u001b[0m         \u001b[0;32melse\u001b[0m\u001b[0;34m:\u001b[0m\u001b[0;34m\u001b[0m\u001b[0;34m\u001b[0m\u001b[0m\n\u001b[1;32m    455\u001b[0m             \u001b[0;31m# Try a pickle\u001b[0m\u001b[0;34m\u001b[0m\u001b[0;34m\u001b[0m\u001b[0;34m\u001b[0m\u001b[0m\n",
      "\u001b[0;32m~/felix-ML/env/lib/python3.6/site-packages/numpy/lib/format.py\u001b[0m in \u001b[0;36mread_array\u001b[0;34m(fp, allow_pickle, pickle_kwargs)\u001b[0m\n\u001b[1;32m    753\u001b[0m         \u001b[0;32mif\u001b[0m \u001b[0misfileobj\u001b[0m\u001b[0;34m(\u001b[0m\u001b[0mfp\u001b[0m\u001b[0;34m)\u001b[0m\u001b[0;34m:\u001b[0m\u001b[0;34m\u001b[0m\u001b[0;34m\u001b[0m\u001b[0m\n\u001b[1;32m    754\u001b[0m             \u001b[0;31m# We can use the fast fromfile() function.\u001b[0m\u001b[0;34m\u001b[0m\u001b[0;34m\u001b[0m\u001b[0;34m\u001b[0m\u001b[0m\n\u001b[0;32m--> 755\u001b[0;31m             \u001b[0marray\u001b[0m \u001b[0;34m=\u001b[0m \u001b[0mnumpy\u001b[0m\u001b[0;34m.\u001b[0m\u001b[0mfromfile\u001b[0m\u001b[0;34m(\u001b[0m\u001b[0mfp\u001b[0m\u001b[0;34m,\u001b[0m \u001b[0mdtype\u001b[0m\u001b[0;34m=\u001b[0m\u001b[0mdtype\u001b[0m\u001b[0;34m,\u001b[0m \u001b[0mcount\u001b[0m\u001b[0;34m=\u001b[0m\u001b[0mcount\u001b[0m\u001b[0;34m)\u001b[0m\u001b[0;34m\u001b[0m\u001b[0;34m\u001b[0m\u001b[0m\n\u001b[0m\u001b[1;32m    756\u001b[0m         \u001b[0;32melse\u001b[0m\u001b[0;34m:\u001b[0m\u001b[0;34m\u001b[0m\u001b[0;34m\u001b[0m\u001b[0m\n\u001b[1;32m    757\u001b[0m             \u001b[0;31m# This is not a real file. We have to read it the\u001b[0m\u001b[0;34m\u001b[0m\u001b[0;34m\u001b[0m\u001b[0;34m\u001b[0m\u001b[0m\n",
      "\u001b[0;31mKeyboardInterrupt\u001b[0m: "
     ]
    }
   ],
   "source": [
    "\n",
    "Epochs = 10\n",
    "TrainLoadedChunks = 5\n",
    "EpochsChunk = int(Epochs * TrainIndex.shape[0] / TrainLoadedChunks)\n",
    "\n",
    "\n",
    "BatchShuffle = np.arange(Chunk_Size * 10 * TrainLoadedChunks, dtype = int).reshape(TrainLoadedChunks * Chunk_Size * 10)\n",
    "rng.shuffle(BatchShuffle)\n",
    "\n",
    "index = 0\n",
    "for i in range(0, EpochsChunk):\n",
    "    \n",
    "    train_images = np.zeros(Chunk_Size * 10 * 36 * TrainLoadedChunks * 128 * 128, dtype = np.float32).reshape(TrainLoadedChunks, Chunk_Size * 10, 36, 128, 128)\n",
    "    train_lab = np.zeros(Chunk_Size * 10 * TrainLoadedChunks, dtype = np.int).reshape(TrainLoadedChunks, Chunk_Size * 10)\n",
    "    for j in range(0, TrainLoadedChunks):\n",
    "        index = i * TrainLoadedChunks + j\n",
    "        TrainChunk_i = TrainIndex[index % TrainIndex.shape[0]]\n",
    "        print(\"Train Chunk\", TrainChunk_i)\n",
    "        \n",
    "        \n",
    "        \n",
    "        \n",
    "        train_images[j] = np.load(Path + \"/\" + ChunkImage + str(TrainChunk_i) + \".npy\")\n",
    "        train_lab[j] = np.load(Path + \"/\" + ChunkLabel + str(TrainChunk_i) + \".npy\")\n",
    "    \n",
    "    train_images = train_images.reshape(-1, 36, 128, 128)\n",
    "    train_images = train_images[BatchShuffle]\n",
    "    train_lab = train_lab.reshape(-1)\n",
    "    train_lab = to_categorical(train_lab[BatchShuffle])\n",
    "    \n",
    "    ValChunk_i = ValIndex[(i * TrainLoadedChunks) % ValIndex.shape[0]]\n",
    "    print(\"Val Chunk\", ValChunk_i)\n",
    "    \n",
    "    val_images = np.load(Path + \"/\" + ChunkImage + str(ValChunk_i) + \".npy\")\n",
    "    val_lab = to_categorical(np.load(Path + \"/\" + ChunkLabel + str(ValChunk_i) + \".npy\"))\n",
    "    \n",
    "    \n",
    "    print(\"EPOCH: \", int(i / TrainIndex.shape[0]), \"CHUNK: \", i % TrainIndex.shape[0])\n",
    "    history = model.fit(train_images, train_lab, epochs=5, batch_size = 64, validation_data = (val_images, val_lab), shuffle = True, callbacks=[EarlyStop]) #, Checkpoint\n",
    "\n",
    "    #model.save('3DCovLast.h5')\n",
    "\n",
    "\n"
   ]
  },
  {
   "cell_type": "code",
   "execution_count": null,
   "metadata": {},
   "outputs": [],
   "source": []
  }
 ],
 "metadata": {
  "kernelspec": {
   "display_name": "Python 3",
   "language": "python",
   "name": "python3"
  },
  "language_info": {
   "codemirror_mode": {
    "name": "ipython",
    "version": 3
   },
   "file_extension": ".py",
   "mimetype": "text/x-python",
   "name": "python",
   "nbconvert_exporter": "python",
   "pygments_lexer": "ipython3",
   "version": "3.6.9"
  }
 },
 "nbformat": 4,
 "nbformat_minor": 4
}
