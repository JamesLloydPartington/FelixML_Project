{
 "cells": [
  {
   "cell_type": "code",
   "execution_count": 6,
   "metadata": {},
   "outputs": [],
   "source": [
    "import numpy as np\n",
    "import os\n",
    "\n",
    "\n",
    "Path = \"/media/ug-ml/Samsung_T5/training3000/1to1000_all_directions\"\n",
    "NewPath = \"/home/ug-ml/felix-ML/DataGenerator1/Data\"\n",
    "\n",
    "NameNumber = 0 #for 1-1000 = 0. For 1001-2000 = 1000 ect\n",
    "\n",
    "TrainFraction = 0.9\n",
    "NumberTrainImages = int(TrainFraction * TotalNumberCrystals)\n",
    "NumberValImages = TotalNumberCrystals - NumberTrainImages\n",
    "\n",
    "DataSets = [\"/train\", \"/validation\"]\n",
    "Classification = [\"/0\", \"/1\", \"/2\", \"/3\", \"/4\", \"/5\", \"/6\", \"/7\", \"/8\", \"/9\"]\n",
    "CrystalName = \"Crystal_\""
   ]
  },
  {
   "cell_type": "code",
   "execution_count": 7,
   "metadata": {},
   "outputs": [],
   "source": [
    "def ThicknessString(String): #Takes the file name string, looks at the thickness part and returns a integer corresponding to the thickness class\n",
    "    if(String == \"0050\"):\n",
    "        return 0\n",
    "    elif(String == \"0250\"):\n",
    "        return 1\n",
    "    elif(String == \"0450\"):\n",
    "        return 2\n",
    "    elif(String == \"0650\"):\n",
    "        return 3\n",
    "    elif(String == \"0850\"):\n",
    "        return 4\n",
    "    elif(String == \"1050\"):\n",
    "        return 5\n",
    "    elif(String == \"1250\"):\n",
    "        return 6\n",
    "    elif(String == \"1450\"):\n",
    "        return 7\n",
    "    elif(String == \"1650\"):\n",
    "        return 8\n",
    "    elif(String == \"1850\"):\n",
    "        return 9\n",
    "    else: #If something goes wrong, an error will be printed\n",
    "        print(\"ERROR\")\n",
    "        return 10\n",
    "\n",
    "def Position():\n",
    "    IndexArray = np.zeros(8 * 8, dtype = int).reshape(8, 8) #Declare Image array\n",
    "    index = 0\n",
    "    for i in range(0, 8):\n",
    "        for j in range(0, 8):\n",
    "            if(i >= j):\n",
    "                IndexArray[i][j] = index\n",
    "                index+=1\n",
    "    return IndexArray\n",
    "\n",
    "DirectionIndex = Position()\n",
    "\n"
   ]
  },
  {
   "cell_type": "code",
   "execution_count": 8,
   "metadata": {},
   "outputs": [],
   "source": [
    "#Sort list of all files in directory\n",
    "imageName = sorted(os.listdir(Path)) #Sorts the lists of all the crysrals in alphabetical order, and will also order the thicknesses."
   ]
  },
  {
   "cell_type": "code",
   "execution_count": 9,
   "metadata": {},
   "outputs": [
    {
     "name": "stdout",
     "output_type": "stream",
     "text": [
      "Total Number of files: 350220 Total Number of crystals (excluding 0) 818\n"
     ]
    }
   ],
   "source": [
    "#Check to see number of files and crystals\n",
    "TotalNumberFiles = 0\n",
    "CrystalName = imageName[0].split(\"_\")[0]\n",
    "CrystalNameNext = \"\"\n",
    "TotalNumberCrystals = 0\n",
    "for i in imageName:\n",
    "    TotalNumberFiles += 1\n",
    "    CrystalNameNext = i.split(\"_\")[0]\n",
    "    if(CrystalNameNext != CrystalName):\n",
    "        TotalNumberCrystals+=1\n",
    "        CrystalName = CrystalNameNext\n",
    "print(\"Total Number of files:\", TotalNumberFiles, \"Total Number of crystals (excluding 0)\", TotalNumberCrystals)"
   ]
  },
  {
   "cell_type": "code",
   "execution_count": 10,
   "metadata": {},
   "outputs": [],
   "source": [
    "CrystalName = imageName[0].split(\"_\")[0]\n",
    "CrystalNameNext = \"\"\n",
    "NameArray = []\n",
    "AllCrystalNameArray = []\n",
    "for i in imageName:\n",
    "    CrystalNameNext = i.split(\"_\")[0]\n",
    "    Direction = list(map(int, i.split(\"_\")[2][:-4].split(\"+\")[1:]))\n",
    "    if(CrystalNameNext != CrystalName):\n",
    "        CrystalName = CrystalNameNext\n",
    "        AllCrystalNameArray.append(NameArray)\n",
    "        NameArray = []\n",
    "        \n",
    "    if(Direction[0] <= 14 and Direction[1] <=14):\n",
    "            NameArray.append(i)\n",
    "    \n"
   ]
  },
  {
   "cell_type": "code",
   "execution_count": 11,
   "metadata": {},
   "outputs": [
    {
     "ename": "NameError",
     "evalue": "name 'ChunkNumber' is not defined",
     "output_type": "error",
     "traceback": [
      "\u001b[0;31m---------------------------------------------------------------------------\u001b[0m",
      "\u001b[0;31mNameError\u001b[0m                                 Traceback (most recent call last)",
      "\u001b[0;32m<ipython-input-11-4b66d8828b26>\u001b[0m in \u001b[0;36m<module>\u001b[0;34m\u001b[0m\n\u001b[1;32m     36\u001b[0m \u001b[0;34m\u001b[0m\u001b[0m\n\u001b[1;32m     37\u001b[0m     \u001b[0;32mfor\u001b[0m \u001b[0mj\u001b[0m \u001b[0;32min\u001b[0m \u001b[0mrange\u001b[0m\u001b[0;34m(\u001b[0m\u001b[0;36m0\u001b[0m\u001b[0;34m,\u001b[0m \u001b[0mCrystalArray\u001b[0m\u001b[0;34m.\u001b[0m\u001b[0mshape\u001b[0m\u001b[0;34m[\u001b[0m\u001b[0;36m0\u001b[0m\u001b[0;34m]\u001b[0m\u001b[0;34m)\u001b[0m\u001b[0;34m:\u001b[0m\u001b[0;34m\u001b[0m\u001b[0;34m\u001b[0m\u001b[0m\n\u001b[0;32m---> 38\u001b[0;31m         \u001b[0mnp\u001b[0m\u001b[0;34m.\u001b[0m\u001b[0msave\u001b[0m\u001b[0;34m(\u001b[0m\u001b[0mNewPath\u001b[0m \u001b[0;34m+\u001b[0m \u001b[0mDataSets\u001b[0m\u001b[0;34m[\u001b[0m\u001b[0mDataSets_i\u001b[0m\u001b[0;34m]\u001b[0m \u001b[0;34m+\u001b[0m \u001b[0mClassification\u001b[0m\u001b[0;34m[\u001b[0m\u001b[0mj\u001b[0m\u001b[0;34m]\u001b[0m \u001b[0;34m+\u001b[0m \u001b[0mCrystalName\u001b[0m \u001b[0;34m+\u001b[0m \u001b[0mstr\u001b[0m\u001b[0;34m(\u001b[0m\u001b[0mNameNumber\u001b[0m \u001b[0;34m+\u001b[0m \u001b[0mChunkNumber\u001b[0m\u001b[0;34m)\u001b[0m \u001b[0;34m+\u001b[0m \u001b[0;34m\".npy\"\u001b[0m\u001b[0;34m,\u001b[0m \u001b[0mCrystalArray\u001b[0m\u001b[0;34m[\u001b[0m\u001b[0mj\u001b[0m\u001b[0;34m]\u001b[0m\u001b[0;34m)\u001b[0m\u001b[0;34m\u001b[0m\u001b[0;34m\u001b[0m\u001b[0m\n\u001b[0m\u001b[1;32m     39\u001b[0m \u001b[0;34m\u001b[0m\u001b[0m\n\u001b[1;32m     40\u001b[0m \u001b[0;34m\u001b[0m\u001b[0m\n",
      "\u001b[0;31mNameError\u001b[0m: name 'ChunkNumber' is not defined"
     ]
    }
   ],
   "source": [
    "rng = np.random.default_rng()\n",
    "\n",
    "\n",
    "\n",
    "ShuffleIndex = np.arange(TotalNumberCrystals, dtype = np.int)\n",
    "rng.shuffle(ShuffleIndex)\n",
    "\n",
    "\n",
    "\n",
    "\n",
    "\n",
    "CrystalArray = np.zeros(10 * 36 * 128 * 128, dtype = np.float32).reshape(10, 36, 128, 128)\n",
    "\n",
    "\n",
    "index_size = 0\n",
    "\n",
    "\n",
    "File1  = open(NewPath +\"/Key_\" + str(NameNumber) + \".txt\", \"w+\")\n",
    "\n",
    "\n",
    "for i in range(0, TotalNumberCrystals):\n",
    "    print(i)\n",
    "    if(i < NumberTrainImages):\n",
    "        DataSets_i = 0\n",
    "    else:\n",
    "        DataSets_i = 1\n",
    "    \n",
    "    for j in AllCrystalNameArray[ShuffleIndex[i]]:\n",
    "        data = np.load(Path + \"/\" + j)\n",
    "        Thickness = j.split(\"_\")[1]\n",
    "        thickness_i = ThicknessString(Thickness)\n",
    "        Direction = list(map(int, j.split(\"_\")[2][:-4].split(\"+\")[1:]))\n",
    "        Directon_i = DirectionIndex[int(Direction[0]/2)][int(Direction[1]/2)]\n",
    "        CrystalArray[thickness_i][Directon_i] = data\n",
    "        \n",
    "        File1.write(DataSets[DataSets_i]+\" \"+ str(i) +\" \" + str(thickness_i) +\" \" + str(Direction) + \" \" + j +\"\\n\")\n",
    "\n",
    "    for j in range(0, CrystalArray.shape[0]):\n",
    "        np.save(NewPath + DataSets[DataSets_i] + Classification[j] + CrystalName + str(NameNumber + i) + \".npy\", CrystalArray[j])\n",
    "    \n",
    "\n",
    "    \n",
    "File1.close()"
   ]
  },
  {
   "cell_type": "code",
   "execution_count": null,
   "metadata": {},
   "outputs": [],
   "source": []
  }
 ],
 "metadata": {
  "kernelspec": {
   "display_name": "Python 3",
   "language": "python",
   "name": "python3"
  },
  "language_info": {
   "codemirror_mode": {
    "name": "ipython",
    "version": 3
   },
   "file_extension": ".py",
   "mimetype": "text/x-python",
   "name": "python",
   "nbconvert_exporter": "python",
   "pygments_lexer": "ipython3",
   "version": "3.6.9"
  }
 },
 "nbformat": 4,
 "nbformat_minor": 4
}
