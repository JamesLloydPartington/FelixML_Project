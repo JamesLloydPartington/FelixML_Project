{
 "cells": [
  {
   "cell_type": "code",
   "execution_count": 4,
   "metadata": {},
   "outputs": [],
   "source": [
    "import os\n",
    "import numpy as np\n",
    "from shutil import copyfile\n",
    "\n",
    "Path = \"/home/ug-ml/felix-ML/DataGenerator3/Data\"\n",
    "Path_i = sorted(os.listdir(Path)) #Validation and Training\n",
    "for i in Path_i:\n",
    "    Path_j = sorted(os.listdir(Path + \"/\" + i)) #0 to 9 thickness\n",
    "    for j in Path_j:\n",
    "        InputFolderName = Path + \"/\" + i + \"/\" + j +\"/\" + \"Input\"\n",
    "        InputNpyFolderName = Path + \"/\" + i + \"/\" + j +\"/\" + \"InputNpy\"\n",
    "        Path_k = sorted(os.listdir(InputFolderName)) #Crystal numbers\n",
    "        for k in Path_k:\n",
    "            CrystalTxtPath = InputFolderName + \"/\" + k\n",
    "            CrystalNpyPath = InputNpyFolderName + \"/\" + k[0:-4] + \".npy\"\n",
    "            Image = np.loadtxt(CrystalTxtPath).astype(np.float32)\n",
    "            np.save(CrystalNpyPath, Image)\n",
    "        print(i, j)\n",
    "            \n"
   ]
  },
  {
   "cell_type": "code",
   "execution_count": null,
   "metadata": {},
   "outputs": [],
   "source": []
  }
 ],
 "metadata": {
  "kernelspec": {
   "display_name": "Python 3",
   "language": "python",
   "name": "python3"
  },
  "language_info": {
   "codemirror_mode": {
    "name": "ipython",
    "version": 3
   },
   "file_extension": ".py",
   "mimetype": "text/x-python",
   "name": "python",
   "nbconvert_exporter": "python",
   "pygments_lexer": "ipython3",
   "version": "3.6.9"
  }
 },
 "nbformat": 4,
 "nbformat_minor": 4
}
