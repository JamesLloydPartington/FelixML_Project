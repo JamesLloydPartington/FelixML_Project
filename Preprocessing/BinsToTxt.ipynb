import os
import numpy as np

def bin_to_arr(source, sink):
  # This function takes .bin files from the "source" directory and saves them as .txt files in the "sink" directory.
  # .txt files saved in this way can be loaded directly into numpy arrays using "arr = np.loadtxt()".
  for i in os.listdir(path):
      i_path = os.path.join(path, i)
      if i[-3:] == "bin":
          arr = np.fromfile(i_path, dtype=np.float64).reshape(128, 128)
          sink_path = os.path.join(sink, i[:-4]+".txt")
          np.savetxt(sink_path, arr, fmt="%.32f")

if __name__ == "__main__":
  bin_to_arr("F:\\training3000\\training3000_flat", "F:\\training3000\\64bit_arrs")
