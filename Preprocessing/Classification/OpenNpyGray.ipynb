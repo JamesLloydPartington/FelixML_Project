{
 "cells": [
  {
   "cell_type": "markdown",
   "metadata": {},
   "source": [
    "# This program opens the gray scale (0,0,0) image contained in the .npy files and shuffles the data into training, validation and testing."
   ]
  },
  {
   "cell_type": "code",
   "execution_count": 17,
   "metadata": {},
   "outputs": [],
   "source": [
    "#echo 1 | sudo tee /proc/sys/vm/overcommit_memory\n",
    "#export LD_LIBRARY_PATH=${LD_LIBRARY_PATH}:/usr/local/cuda/lib64\n",
    "\n",
    "import numpy as np\n",
    "\n",
    "#First 2 commands allow more memory for the computer to use and use the GPU for ML\n"
   ]
  },
  {
   "cell_type": "code",
   "execution_count": 18,
   "metadata": {},
   "outputs": [],
   "source": [
    "Path = \"Quarter32Bit\" #Give folder path where the .npy files are stored\n",
    "\n",
    "AllData = np.load(Path + \"/ImageDataNorm.npy\") #Open image data\n",
    "AllLabel = np.load(Path + \"/ImageLab.npy\") #Open labels\n"
   ]
  },
  {
   "cell_type": "code",
   "execution_count": 19,
   "metadata": {},
   "outputs": [],
   "source": [
    "#Determine size of data and choose what proportion of data goes into training, validation and testing\n",
    "No_Crystals = AllData.shape[0] #Number of crystals (excluding *10 thickness)\n",
    "\n",
    "Shuffle_Index = np.arange(No_Crystals)#Need to shuffle crystals indices into different data sets\n",
    "np.random.shuffle(Shuffle_Index)#shufle indices\n",
    "\n",
    "###########\n",
    "TrainRatio = 0.8 #Proportion of training data\n",
    "ValidationRatio = 0.1 #Proportion of validation data\n",
    "TestRatio = 1 - TrainRatio - ValidationRatio #Proportion of test data\n",
    "\n",
    "###########\n",
    "\n",
    "#Work out the number of crystals in each set\n",
    "TrainCrystalNo = round(TrainRatio * No_Crystals)\n",
    "ValCrystalNo = round(ValidationRatio * No_Crystals)\n",
    "TestCrystalNo = No_Crystals - TrainCrystalNo - ValCrystalNo\n",
    "PixleNo = AllData.shape[2] * AllData.shape[3] #Size of image"
   ]
  },
  {
   "cell_type": "code",
   "execution_count": 20,
   "metadata": {},
   "outputs": [],
   "source": [
    "#Initialise image data arrays\n",
    "train_images = np.zeros(TrainCrystalNo * PixleNo * AllData.shape[1], dtype = np.float32).reshape(TrainCrystalNo, AllData.shape[1], AllData.shape[2], AllData.shape[3])\n",
    "val_images = np.zeros(ValCrystalNo * PixleNo * AllData.shape[1], dtype = np.float32).reshape(ValCrystalNo, AllData.shape[1], AllData.shape[2], AllData.shape[3])\n",
    "test_images = np.zeros(TestCrystalNo * PixleNo * AllData.shape[1], dtype = np.float32).reshape(TestCrystalNo, AllData.shape[1], AllData.shape[2], AllData.shape[3])\n",
    "\n",
    "#Initialise label arrays\n",
    "train_lab = np.zeros(TrainCrystalNo * AllData.shape[1], dtype = np.uint8).reshape(TrainCrystalNo, AllData.shape[1])\n",
    "val_lab = np.zeros(ValCrystalNo * AllData.shape[1], dtype = np.uint8).reshape(ValCrystalNo, AllData.shape[1])\n",
    "test_lab = np.zeros(TestCrystalNo * AllData.shape[1], dtype = np.uint8).reshape(TestCrystalNo, AllData.shape[1])\n",
    "\n",
    "#Put Shuffled Crystals into training and validation and test\n",
    "for i in range(0, No_Crystals): \n",
    "\tif(i < TrainCrystalNo):\n",
    "\t\ttrain_images[i] = AllData[Shuffle_Index[i]]\n",
    "\t\ttrain_lab[i] = AllLabel[Shuffle_Index[i]]\n",
    "\n",
    "\telif(i < TrainCrystalNo + ValCrystalNo):\n",
    "\t\tval_images[i - TrainCrystalNo] = AllData[Shuffle_Index[i]]\n",
    "\t\tval_lab[i - TrainCrystalNo] = AllLabel[Shuffle_Index[i]]\t\n",
    "\t\n",
    "\telse:\n",
    "\t\ttest_images[i - TrainCrystalNo - ValCrystalNo] = AllData[Shuffle_Index[i]]\n",
    "\t\ttest_lab[i - TrainCrystalNo - ValCrystalNo] = AllLabel[Shuffle_Index[i]]\n",
    "\t\t\n",
    "\n"
   ]
  },
  {
   "cell_type": "code",
   "execution_count": 21,
   "metadata": {},
   "outputs": [],
   "source": [
    "#We must shuffle the data again so the different thickness are not in order\n",
    "Shuffle_Index_Train = np.arange(TrainCrystalNo * AllData.shape[1])\n",
    "Shuffle_Index_Val = np.arange(ValCrystalNo * AllData.shape[1])\n",
    "Shuffle_Index_Test = np.arange(TestCrystalNo * AllData.shape[1])\n",
    "\n",
    "np.random.shuffle(Shuffle_Index_Train)\n",
    "np.random.shuffle(Shuffle_Index_Val)\n",
    "np.random.shuffle(Shuffle_Index_Test)\n",
    "\n",
    "#Flatten the data by merging the different crystals and different thickness into 1 dimension\n",
    "train_images = train_images.reshape(-1, AllData.shape[2], AllData.shape[3], 1)\n",
    "val_images = val_images.reshape(-1, AllData.shape[2], AllData.shape[3], 1)\n",
    "test_images = test_images.reshape(-1, AllData.shape[2], AllData.shape[3], 1)\n",
    "train_lab = train_lab.reshape(-1)\n",
    "val_lab = val_lab.reshape(-1)\n",
    "test_lab = test_lab.reshape(-1)\n",
    "\n",
    "train_images_copy = train_images\n",
    "val_images_copy = val_images\n",
    "test_images_copy = test_images\n",
    "train_lab_copy = train_lab\n",
    "val_lab_copy = val_lab\n",
    "test_lab_copy = test_lab\n",
    "\n",
    "#Shuffle data for training, validation and testing\n",
    "for i in range(0,TrainCrystalNo * AllData.shape[1]):\n",
    "\ttrain_images_copy[i] = train_images[Shuffle_Index_Train[i]]\n",
    "\ttrain_lab_copy[i] = train_lab[Shuffle_Index_Train[i]]\n",
    "    \n",
    "for i in range(0,ValCrystalNo * AllData.shape[1]):\n",
    "\tval_images_copy[i] = val_images[Shuffle_Index_Val[i]]\n",
    "\tval_lab_copy[i] = val_lab[Shuffle_Index_Val[i]]\n",
    "    \n",
    "for i in range(0,TestCrystalNo * AllData.shape[1]):\n",
    "\ttest_images_copy[i] = test_images[Shuffle_Index_Test[i]]\n",
    "\ttest_lab_copy[i] = test_lab[Shuffle_Index_Test[i]]\n",
    "\n",
    "#Put data back into orginal arrays\n",
    "train_images = train_images_copy.astype(\"float32\")\n",
    "val_images = val_images_copy.astype(\"float32\")\n",
    "test_images = test_images_copy.astype(\"float32\")\n",
    "train_lab = train_lab_copy\n",
    "val_lab = val_lab_copy\n",
    "test_lab = test_lab_copy\n",
    "\n",
    "#Turn label arrays into categorical\n",
    "from keras.utils import to_categorical\n",
    "train_lab = to_categorical(train_lab)\n",
    "val_lab = to_categorical(val_lab)\n",
    "test_lab = to_categorical(test_lab)\n",
    "\n",
    "####################################################################################Data is ready"
   ]
  },
  {
   "cell_type": "code",
   "execution_count": null,
   "metadata": {},
   "outputs": [],
   "source": []
  },
  {
   "cell_type": "code",
   "execution_count": null,
   "metadata": {},
   "outputs": [],
   "source": []
  }
 ],
 "metadata": {
  "kernelspec": {
   "display_name": "Python 3",
   "language": "python",
   "name": "python3"
  },
  "language_info": {
   "codemirror_mode": {
    "name": "ipython",
    "version": 3
   },
   "file_extension": ".py",
   "mimetype": "text/x-python",
   "name": "python",
   "nbconvert_exporter": "python",
   "pygments_lexer": "ipython3",
   "version": "3.6.9"
  }
 },
 "nbformat": 4,
 "nbformat_minor": 4
}
