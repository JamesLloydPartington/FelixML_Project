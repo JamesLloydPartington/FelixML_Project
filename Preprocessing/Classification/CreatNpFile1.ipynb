{
 "cells": [
  {
   "cell_type": "markdown",
   "metadata": {},
   "source": [
    "# Turn all (65000) .txt files of the form Name_Thickness.txt with direction (0,0, 0) into 3 .npy files containing the image data, the labels and a key."
   ]
  },
  {
   "cell_type": "code",
   "execution_count": 1,
   "metadata": {},
   "outputs": [],
   "source": [
    "#Set up the paths\n",
    "import os \n",
    "import numpy as np\n",
    "\n",
    "Path = \"64bit_arrs\" #File path, give path to folder containing the .txt files of all the (0, 0, 0) images\n",
    "NewPath = \"Quarter32Bit\" #File path, give the path of the folder you want to put the output files in. (Needs to exist before running the program)"
   ]
  },
  {
   "cell_type": "code",
   "execution_count": 2,
   "metadata": {},
   "outputs": [
    {
     "name": "stdout",
     "output_type": "stream",
     "text": [
      "Number of images: 65080\n"
     ]
    }
   ],
   "source": [
    "#If this cell runs correctly, it means the paths are correct. Should expect an output of about 65000.\n",
    "\n",
    "imageName = sorted(os.listdir(Path)) #Sorts the lists of all the crysrals in alphabetical order, and will also order the thicknesses.\n",
    "\n",
    "fileNo = 0\n",
    "for i in imageName:\n",
    "    fileNo = fileNo + 1            \n",
    "print(\"Number of images:\", fileNo) #Check to see how many images there are"
   ]
  },
  {
   "cell_type": "code",
   "execution_count": 3,
   "metadata": {},
   "outputs": [],
   "source": [
    "#Alocate arrays for images and labels, and creat a file called \"Key1.txt\"\n",
    "\n",
    "DiIm = [int(fileNo / 10), 10, 64, 64] #Declare the array shape to store all the images. The shape is (Number of types of crystal, Number of thicknesses, x-dimension, y-dimension) note 128/2 = 64 quatersized images \n",
    "DiLab = [int(fileNo / 10), 10] #Declare array shape to store all the thicknesses. The shape is (Number of types of crystal, Number of thicknesses)\n",
    "\n",
    "\n",
    "AllData = np.arange((DiIm[0] * DiIm[1] * DiIm[2] * DiIm[3]), dtype = np.float32).reshape(DiIm) #Declare Image array\n",
    "AllLabel = np.arange(DiIm[0] * DiIm[1]).reshape(DiLab) #Declare label array\n",
    "\n",
    "File1  = open(NewPath +\"/Key1.txt\", \"w+\") #This file will contain two integers and a name of the original file which can be used to 'decode' the Image data and Label data linking it to the orignial file \n",
    "\n"
   ]
  },
  {
   "cell_type": "code",
   "execution_count": 4,
   "metadata": {},
   "outputs": [],
   "source": [
    "#Define functions to read the file name and determine thickness and another function to load the data from the file\n",
    "\n",
    "def Thickness(String): #Takes the file name string, looks at the thickness part and returns a integer corresponding to the thickness class\n",
    "    String = String[-8:-4]\n",
    "    if(String == \"0050\"):\n",
    "        return 0\n",
    "    elif(String == \"0250\"):\n",
    "        return 1\n",
    "    elif(String == \"0450\"):\n",
    "        return 2\n",
    "    elif(String == \"0650\"):\n",
    "        return 3\n",
    "    elif(String == \"0850\"):\n",
    "        return 4\n",
    "    elif(String == \"1050\"):\n",
    "        return 5\n",
    "    elif(String == \"1250\"):\n",
    "        return 6\n",
    "    elif(String == \"1450\"):\n",
    "        return 7\n",
    "    elif(String == \"1650\"):\n",
    "        return 8\n",
    "    elif(String == \"1850\"):\n",
    "        return 9\n",
    "    else: #If something goes wrong, an error will be printed\n",
    "        print(\"ERROR\")\n",
    "        return 10\n",
    "\n",
    "\n",
    "def ReadFile(String): #Reads .txt file and returns an array\n",
    "\tArray = np.loadtxt(String)\n",
    "\treturn(Array)\n",
    "\n"
   ]
  },
  {
   "cell_type": "code",
   "execution_count": null,
   "metadata": {},
   "outputs": [],
   "source": [
    "#Here we read all the files, we also have the option to reduce the size of the images to quarter size\n",
    "imageSize = 64 #Pixel size of image, 128 = full size, 64 = quarter size.\n",
    "\n",
    "CrystalNo = 0 #This number will be used to label different types of crystals, this information is stored in Key1.txt\n",
    "for i in imageName:\n",
    "    imageName_i = Path + \"/\" + i\n",
    "    \n",
    "    data = ReadFile(imageName_i)\n",
    "    thickness = Thickness(imageName_i)\n",
    "    \n",
    "    AllData[CrystalNo][thickness] = data[0:imageSize, 0:imageSize] #Puts the image into the 4D array at position depending on what crystal it is and how thick it is\n",
    "    AllLabel[CrystalNo][thickness] = thickness #Stores the classification at the same position\n",
    "    File1.write(str(CrystalNo)+\" \"+ str(thickness) + \" \" + i +\"\\n\") #Stores infomation of what the orignial file name was and where the data is now stored (A key)\n",
    "    \n",
    "    if(thickness == 9): #In alphabetical order, the 9th thickness is the last image of the crystal, so the next image is a different crystal\n",
    "        CrystalNo = CrystalNo + 1\n",
    "        print(CrystalNo * 10) #Shows progress of the number of images stored in arrays\n",
    "\n",
    "#The number should go from 0 to about 600 (may take a while)"
   ]
  },
  {
   "cell_type": "code",
   "execution_count": null,
   "metadata": {},
   "outputs": [],
   "source": [
    "#Close the file and save the two .npy files containing data\n",
    "File1.close()\n",
    "np.save(NewPath+\"/ImageData1.npy\", AllData) #The image data is saved as ImageData.npy\n",
    "np.save(NewPath+\"/ImageLab1.npy\", AllLabel) #The label data is saved as AllLabel.npy and the Key is was saved as Key.txt"
   ]
  }
 ],
 "metadata": {
  "kernelspec": {
   "display_name": "Python 3",
   "language": "python",
   "name": "python3"
  },
  "language_info": {
   "codemirror_mode": {
    "name": "ipython",
    "version": 3
   },
   "file_extension": ".py",
   "mimetype": "text/x-python",
   "name": "python",
   "nbconvert_exporter": "python",
   "pygments_lexer": "ipython3",
   "version": "3.6.9"
  }
 },
 "nbformat": 4,
 "nbformat_minor": 4
}
