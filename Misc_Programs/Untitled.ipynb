{
 "cells": [
  {
   "cell_type": "code",
   "execution_count": 3,
   "metadata": {},
   "outputs": [],
   "source": [
    "import os\n",
    "import numpy as np\n",
    "\n",
    "base_path = \"/home/ug-ml/felix-ML/DataGenerator2/Data\"\n",
    "\n",
    "with open(\"corrupt_files\", \"a\") as f:\n",
    "    for segment in os.listdir(base_path):\n",
    "        seg_path = os.path.join(base_path, segment)\n",
    "        for tclass in os.listdir(seg_path):\n",
    "            class_path = os.path.join(seg_path, tclass)\n",
    "            for arr_name in os.listdir(class_path):\n",
    "                arr_path = os.path.join(class_path, arr_name)\n",
    "                arr = np.load(arr_path)\n",
    "                vals, counts = np.unique(arr, return_counts = True)\n",
    "                if counts[0] > 8:\n",
    "                    f.write(arr_name+\"\\n\")\n",
    "                "
   ]
  },
  {
   "cell_type": "code",
   "execution_count": null,
   "metadata": {},
   "outputs": [],
   "source": []
  }
 ],
 "metadata": {
  "kernelspec": {
   "display_name": "Python 3",
   "language": "python",
   "name": "python3"
  },
  "language_info": {
   "codemirror_mode": {
    "name": "ipython",
    "version": 3
   },
   "file_extension": ".py",
   "mimetype": "text/x-python",
   "name": "python",
   "nbconvert_exporter": "python",
   "pygments_lexer": "ipython3",
   "version": "3.6.9"
  }
 },
 "nbformat": 4,
 "nbformat_minor": 4
}
